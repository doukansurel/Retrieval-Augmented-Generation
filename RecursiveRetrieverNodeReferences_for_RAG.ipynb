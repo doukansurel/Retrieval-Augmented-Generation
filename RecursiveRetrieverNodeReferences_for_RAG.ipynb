{
  "nbformat": 4,
  "nbformat_minor": 0,
  "metadata": {
    "colab": {
      "provenance": [],
      "authorship_tag": "ABX9TyMF7gTAVLAW2YJ5NAd2YaAF",
      "include_colab_link": true
    },
    "kernelspec": {
      "name": "python3",
      "display_name": "Python 3"
    },
    "language_info": {
      "name": "python"
    }
  },
  "cells": [
    {
      "cell_type": "markdown",
      "metadata": {
        "id": "view-in-github",
        "colab_type": "text"
      },
      "source": [
        "<a href=\"https://colab.research.google.com/github/doukansurel/Retrieval-Augmented-Generation/blob/main/RecursiveRetrieverNodeReferences_for_RAG.ipynb\" target=\"_parent\"><img src=\"https://colab.research.google.com/assets/colab-badge.svg\" alt=\"Open In Colab\"/></a>"
      ]
    },
    {
      "cell_type": "markdown",
      "source": [
        "#Gerekli Kütüphanelerin Kurulması ve Aktarılması"
      ],
      "metadata": {
        "id": "8rys-0nkRsI3"
      }
    },
    {
      "cell_type": "code",
      "execution_count": null,
      "metadata": {
        "id": "1QJ6wyBERLsm"
      },
      "outputs": [],
      "source": [
        "!pip install llama-index pypdf llama-hub"
      ]
    },
    {
      "cell_type": "code",
      "source": [
        "from pathlib import Path\n",
        "from llama_hub.file.pdf.base import PDFReader\n",
        "from llama_index.response.notebook_utils import display_source_node\n",
        "from llama_index.retrievers import RecursiveRetriever\n",
        "from llama_index.query_engine import RetrieverQueryEngine\n",
        "from llama_index import VectorStoreIndex, ServiceContext\n",
        "from llama_index.llms import OpenAI\n",
        "import json"
      ],
      "metadata": {
        "id": "Wu78WUtGRdm-"
      },
      "execution_count": 2,
      "outputs": []
    },
    {
      "cell_type": "markdown",
      "source": [
        "#Modelin Yüklenmesi"
      ],
      "metadata": {
        "id": "FsJXAdIUSF-k"
      }
    },
    {
      "cell_type": "code",
      "source": [
        "import os\n",
        "\n",
        "os.environ[\"OPENAI_API_KEY\"] = \"OPENAI_API_KEY\""
      ],
      "metadata": {
        "id": "VWvBOTPVSHjw"
      },
      "execution_count": 3,
      "outputs": []
    },
    {
      "cell_type": "markdown",
      "source": [
        "#Drive Bağlantısı"
      ],
      "metadata": {
        "id": "9HsNTFw6SCBL"
      }
    },
    {
      "cell_type": "code",
      "source": [
        "from google.colab import drive\n",
        "drive.mount(\"/content/drive\")"
      ],
      "metadata": {
        "colab": {
          "base_uri": "https://localhost:8080/"
        },
        "id": "qh_dnztoSD50",
        "outputId": "c035ce4a-f541-4743-cbca-9131210f8a9f"
      },
      "execution_count": 4,
      "outputs": [
        {
          "output_type": "stream",
          "name": "stdout",
          "text": [
            "Mounted at /content/drive\n"
          ]
        }
      ]
    },
    {
      "cell_type": "code",
      "source": [
        "loader = PDFReader()\n",
        "docs_ = loader.load_data(file=Path(\"/content/drive/MyDrive/RAG/Belgeler/satis-giderleri-tarifesi-4-1.pdf\"))"
      ],
      "metadata": {
        "id": "Vx9wE5THRwI3"
      },
      "execution_count": 5,
      "outputs": []
    },
    {
      "cell_type": "code",
      "source": [
        "from llama_index import Document\n",
        "\n",
        "doc_text = \"\\n\\n\".join([d.get_content() for d in docs_])\n",
        "docs = [Document(text=doc_text)]"
      ],
      "metadata": {
        "id": "w8x5ih0lSb-u"
      },
      "execution_count": 6,
      "outputs": []
    },
    {
      "cell_type": "code",
      "source": [
        "from llama_index.node_parser import SentenceSplitter\n",
        "from llama_index.schema import IndexNode\n",
        "\n",
        "node_parser = SentenceSplitter(chunk_size=1024)\n",
        "base_nodes = node_parser.get_nodes_from_documents(docs)\n",
        "for idx,node in enumerate(base_nodes):\n",
        "  node.id_ = f\"node-{idx}\""
      ],
      "metadata": {
        "id": "tmk0WqekSeTE"
      },
      "execution_count": 7,
      "outputs": []
    },
    {
      "cell_type": "code",
      "source": [
        "from llama_index.embeddings import resolve_embed_model\n",
        "\n",
        "embed_model = resolve_embed_model(\"local:BAAI/bge-small-en\")\n",
        "llm = OpenAI(model=\"gpt-3.5-turbo\")\n",
        "service_context = ServiceContext.from_defaults(\n",
        "    llm=llm, embed_model=embed_model\n",
        ")"
      ],
      "metadata": {
        "id": "8kiDzG6fSuvF"
      },
      "execution_count": null,
      "outputs": []
    },
    {
      "cell_type": "markdown",
      "source": [
        "#Temel Düzey Alıcı Oluşturma"
      ],
      "metadata": {
        "id": "yWjjjWfiS65L"
      }
    },
    {
      "cell_type": "code",
      "source": [
        "base_index = VectorStoreIndex(base_nodes,service_context=service_context)\n",
        "base_retriever = base_index.as_retriever(similarity_top_k=2)"
      ],
      "metadata": {
        "id": "imNXtl6qSytl"
      },
      "execution_count": 9,
      "outputs": []
    },
    {
      "cell_type": "code",
      "source": [
        "retrievals = base_retriever.retrieve(\n",
        "    \"Sicile kayıtlı motorlu kara araçlarına ilişkin satış gideri ile taşınır mallara ilişkin satış giderinin farkı nedir?\"\n",
        ")"
      ],
      "metadata": {
        "id": "RwfSzB7NTLkn"
      },
      "execution_count": 10,
      "outputs": []
    },
    {
      "cell_type": "code",
      "source": [
        "for n in retrievals:\n",
        "    display_source_node(n, source_length=1500)"
      ],
      "metadata": {
        "colab": {
          "base_uri": "https://localhost:8080/",
          "height": 625
        },
        "id": "gMxWwjw4TjxV",
        "outputId": "ea820cf5-119b-4ead-c12a-a6703b6d772b"
      },
      "execution_count": 11,
      "outputs": [
        {
          "output_type": "display_data",
          "data": {
            "text/plain": [
              "<IPython.core.display.Markdown object>"
            ],
            "text/markdown": "**Node ID:** node-1<br>**Similarity:** 0.8835825294503492<br>**Text:** (3) İcra dosyasından birden fazla taşınmazın birlikte satışının talep edilmesi halinde, bir taşınmaz için satış\nücreti tam olarak alınır. Diğer taşınmazlar için ise ücret tablosunda belirtilen satış giderinin toplamından belirli\nmiktarda indirim yapılmak suretiyle avans olarak depo edilmesine icra müdürü tarafından karar verilebilir. Bu\nindirim tabloda belirtilen gider avansının yarısından fazla olamaz.\nSicile kayıtlı motorlu kara araçlarına ilişkin satış gideri \nMADDE 5 \n(1) Sicile kayıtlı motorlu kara araçlarının satışının talep edilmesi halinde satış giderleri tablosunda yer alan\nbuna ilişkin ücret esas alınır.\n(2) Sicile kayıtlı motorlu kara araçlarına ilişkin satış gideri; aracın muhafazası, kıymet takdiri ve satış giderleri\nesas alınarak belirlenmiştir.\nTaşınır mallara ilişkin satış gideri \nMADDE 6 \n(1) Taşınır malların satışının talep edilmesi halinde satış giderleri tablosunda yer alan buna ilişkin ücret esas\nalınır.\n(2) Taşınır mallara ilişkin satış gideri, kıymet takdiri ve satış giderleri esas alınarak belirlenmiştir.\nDiğer mallara ilişkin satış gideri \nMADDE 7 \n(1) Bu Tarifede satış gideri belirtilmeyen malların satışının talep edilmesi halinde, niteliğine uygun düştüğü\nölçüde satış gideri tablosunda yer alan ücretler esas alınır.\nSatış giderleri \nMADDE 8 \n(1) Bu Tarifeye göre yatırılması gereken satış giderleri aşağıda gösterilmiştir:\nTasinmaz Mallar Için\n25.000,00\nTL\nSicile\nKayitli\nMotorlu Kara\nAraçlari Için\nOtomobil ve\nDiger Yük\nVasitalari\n15.000,00\nTL\nKamyo...<br>"
          },
          "metadata": {}
        },
        {
          "output_type": "display_data",
          "data": {
            "text/plain": [
              "<IPython.core.display.Markdown object>"
            ],
            "text/markdown": "**Node ID:** node-0<br>**Similarity:** 0.8551530068791179<br>**Text:** Satış Giderleri Tarifesi\nRG 21.12.2023/32406\nYürürlüğe Giriş Tarihi: 1.1.2024\nBelgeyi Lexpera’da Görüntüle\nAmaç ve kapsam - MADDE 1\n1\nDayanak - MADDE 2\n1\nSatış giderinin avans olarak ödenmesi - MADDE 3\n1\nTaşınmaz mallara ilişkin satış gideri - MADDE 4\n1\nSicile kayıtlı motorlu kara araçlarına ilişkin satış gideri - MADDE 5\n2\nTaşınır mallara ilişkin satış gideri - MADDE 6\n2\nDiğer mallara ilişkin satış gideri - MADDE 7\n2\nSatış giderleri - MADDE 8\n2\nUygulanacak tarife - MADDE 9\n2\nYürürlük - MADDE 10\n3\nYürütme - MADDE 11\n3\nAmaç ve kapsam \nMADDE 1 \n(1) Bu Tarifenin amacı; 9/6/1932 tarihli ve 2004 sayılı İcra ve İflâs Kanununun 106 ncı maddesi gereğince\nicra dairelerince yapılacak olan satışa hazırlık ve satış işlemleri için alınacak ücretlere ilişkin usul ve esasları\nbelirlemektir.\nDayanak \nMADDE 2 \n(1) Bu Tarife, 9/6/1932 tarihli ve 2004 sayılı İcra ve İflâs Kanununun 106 ncı maddesinin yedinci fıkrasına\ndayanılarak hazırlanmıştır.\nSatış giderinin avans olarak ödenmesi \nMADDE 3 \n(1) Satış talep edilmesi halinde ücret tablosunda yer alan satışı istenen mahcuz mala ait satış giderlerinin\npeşin olarak yatırılması zorunludur.\n(2) Satış işlemleri sırasında bu Tarifede belirtilen ve peşin olarak yatırılan miktarın yetersiz kaldığı anlaşılırsa\nicra müdürü tarafından miktarın tamamlanması için satış isteyene on beş günlük süre verilir.\nTaşınmaz mallara ilişkin satış gideri \nMADDE 4 \n(1) Taşınmaz malların satışının talep edilmesi halinde satış giderleri tablosunda yer alan buna ilişkin ...<br>"
          },
          "metadata": {}
        }
      ]
    },
    {
      "cell_type": "code",
      "source": [
        "query_engine_base = RetrieverQueryEngine.from_args(\n",
        "    base_retriever,service_context=service_context\n",
        ")"
      ],
      "metadata": {
        "id": "5Kb4PhwUTqP9"
      },
      "execution_count": 12,
      "outputs": []
    },
    {
      "cell_type": "code",
      "source": [
        "response =query_engine_base.query(\n",
        "  \"Sicile kayıtlı motorlu kara araçlarına ilişkin satış gideri ile taşınır mallara ilişkin satış giderinin farkı nedir türkçe yaz?\"\n",
        ")\n",
        "print(str(response))"
      ],
      "metadata": {
        "colab": {
          "base_uri": "https://localhost:8080/"
        },
        "id": "SUHuGm-CTzC3",
        "outputId": "33bd6fa5-6e09-4bef-f24f-74233f5b9bcb"
      },
      "execution_count": 16,
      "outputs": [
        {
          "output_type": "stream",
          "name": "stdout",
          "text": [
            "Sicile kayıtlı motorlu kara araçlarına ilişkin satış gideri, aracın muhafazası, kıymet takdiri ve satış giderleri esas alınarak belirlenirken, taşınır mallara ilişkin satış gideri ise sadece kıymet takdiri ve satış giderleri esas alınarak belirlenir.\n"
          ]
        }
      ]
    },
    {
      "cell_type": "markdown",
      "source": [
        "# Parça Referansları: Daha Büyük Parçalardan Küçük Parçalar Oluşturma"
      ],
      "metadata": {
        "id": "D1P0LkPmV0K9"
      }
    },
    {
      "cell_type": "code",
      "source": [
        "sub_chunk_sizes = [128, 256, 512]\n",
        "sub_node_parsers = [\n",
        "    SentenceSplitter(chunk_size=c, chunk_overlap=20) for c in sub_chunk_sizes\n",
        "]\n",
        "\n",
        "all_nodes = []\n",
        "for base_node in base_nodes:\n",
        "    for n in sub_node_parsers:\n",
        "        sub_nodes = n.get_nodes_from_documents([base_node])\n",
        "        sub_inodes = [\n",
        "            IndexNode.from_text_node(sn, base_node.node_id) for sn in sub_nodes\n",
        "        ]\n",
        "        all_nodes.extend(sub_inodes)\n",
        "\n",
        "    # also add original node to node\n",
        "    original_node = IndexNode.from_text_node(base_node, base_node.node_id)\n",
        "    all_nodes.append(original_node)"
      ],
      "metadata": {
        "id": "CEJjKLiIT62f"
      },
      "execution_count": 17,
      "outputs": []
    },
    {
      "cell_type": "code",
      "source": [
        "all_nodes_dict = {n.node_id: n for n in all_nodes}"
      ],
      "metadata": {
        "id": "7qyV9uXfV--1"
      },
      "execution_count": 18,
      "outputs": []
    },
    {
      "cell_type": "code",
      "source": [
        "vector_index_chunk = VectorStoreIndex(\n",
        "    all_nodes, service_context=service_context\n",
        ")"
      ],
      "metadata": {
        "id": "Mto_ZqY1WAeN"
      },
      "execution_count": 19,
      "outputs": []
    },
    {
      "cell_type": "code",
      "source": [
        "vector_retriever_chunk = vector_index_chunk.as_retriever(similarity_top_k=2)\n"
      ],
      "metadata": {
        "id": "K1N3-6TJWBiR"
      },
      "execution_count": 20,
      "outputs": []
    },
    {
      "cell_type": "code",
      "source": [
        "retriever_chunk = RecursiveRetriever(\n",
        "    \"vector\",\n",
        "    retriever_dict={\"vector\": vector_retriever_chunk},\n",
        "    node_dict=all_nodes_dict,\n",
        "    verbose=True,\n",
        ")"
      ],
      "metadata": {
        "id": "fRaEMQPDWC6F"
      },
      "execution_count": 21,
      "outputs": []
    },
    {
      "cell_type": "code",
      "source": [
        "nodes = retriever_chunk.retrieve(\n",
        "  \"Sicile kayıtlı motorlu kara araçlarına ilişkin satış gideri ile taşınır mallara ilişkin satış giderinin farkı nedir türkçe yaz?\"\n",
        ")\n",
        "for node in nodes:\n",
        "    display_source_node(node, source_length=2000)"
      ],
      "metadata": {
        "colab": {
          "base_uri": "https://localhost:8080/",
          "height": 489
        },
        "id": "Qhn-c1y7WF16",
        "outputId": "08820552-0449-46ec-e1a4-1ed01115bc35"
      },
      "execution_count": 23,
      "outputs": [
        {
          "output_type": "stream",
          "name": "stdout",
          "text": [
            "\u001b[1;3;34mRetrieving with query id None: Sicile kayıtlı motorlu kara araçlarına ilişkin satış gideri ile taşınır mallara ilişkin satış giderinin farkı nedir türkçe yaz?\n",
            "\u001b[0m\u001b[1;3;38;5;200mRetrieved node with id, entering: node-1\n",
            "\u001b[0m\u001b[1;3;34mRetrieving with query id node-1: Sicile kayıtlı motorlu kara araçlarına ilişkin satış gideri ile taşınır mallara ilişkin satış giderinin farkı nedir türkçe yaz?\n",
            "\u001b[0m"
          ]
        },
        {
          "output_type": "display_data",
          "data": {
            "text/plain": [
              "<IPython.core.display.Markdown object>"
            ],
            "text/markdown": "**Node ID:** node-1<br>**Similarity:** 0.9178634388513696<br>**Text:** (3) İcra dosyasından birden fazla taşınmazın birlikte satışının talep edilmesi halinde, bir taşınmaz için satış\nücreti tam olarak alınır. Diğer taşınmazlar için ise ücret tablosunda belirtilen satış giderinin toplamından belirli\nmiktarda indirim yapılmak suretiyle avans olarak depo edilmesine icra müdürü tarafından karar verilebilir. Bu\nindirim tabloda belirtilen gider avansının yarısından fazla olamaz.\nSicile kayıtlı motorlu kara araçlarına ilişkin satış gideri \nMADDE 5 \n(1) Sicile kayıtlı motorlu kara araçlarının satışının talep edilmesi halinde satış giderleri tablosunda yer alan\nbuna ilişkin ücret esas alınır.\n(2) Sicile kayıtlı motorlu kara araçlarına ilişkin satış gideri; aracın muhafazası, kıymet takdiri ve satış giderleri\nesas alınarak belirlenmiştir.\nTaşınır mallara ilişkin satış gideri \nMADDE 6 \n(1) Taşınır malların satışının talep edilmesi halinde satış giderleri tablosunda yer alan buna ilişkin ücret esas\nalınır.\n(2) Taşınır mallara ilişkin satış gideri, kıymet takdiri ve satış giderleri esas alınarak belirlenmiştir.\nDiğer mallara ilişkin satış gideri \nMADDE 7 \n(1) Bu Tarifede satış gideri belirtilmeyen malların satışının talep edilmesi halinde, niteliğine uygun düştüğü\nölçüde satış gideri tablosunda yer alan ücretler esas alınır.\nSatış giderleri \nMADDE 8 \n(1) Bu Tarifeye göre yatırılması gereken satış giderleri aşağıda gösterilmiştir:\nTasinmaz Mallar Için\n25.000,00\nTL\nSicile\nKayitli\nMotorlu Kara\nAraçlari Için\nOtomobil ve\nDiger Yük\nVasitalari\n15.000,00\nTL\nKamyonet,\nMinibüs,\nMidibüs,\nArazi Tasiti\n16.000,00\nTL\nKamyon,\nOtobüs,\nÇekici (Tir)\n18.500,00\nTL\nIs\nMakineleri,\nRömork,\nÇekici+Römork\n20.500,00\nTL\nTasinir Mallar Için\n2.000,00 TL\nUygulanacak tarife \nMADDE 9 \n(1) Satış giderinin belirlenmesinde, satış talebinin yapıldığı tarihte yürürlükte bulunan tarife esas alınır. Bu\nTarifenin 3 üncü maddesinin ikinci fıkrası hükmü saklıdır.\nSatış Giderleri Tarifesi\nSayfa 2/3\n\n\nYürürlük \nMADDE 10 \n(1) Bu Tarife 1/1/2024 tarihinde yürürlüğe girer.\nYürütme \nMADDE 11 \n...<br>"
          },
          "metadata": {}
        }
      ]
    },
    {
      "cell_type": "markdown",
      "source": [
        "#Meta Veri Referansları: Özetler + Daha büyük bir parçaya atıfta bulunan Oluşturulmuş Sorular"
      ],
      "metadata": {
        "id": "koPdGbbQWNwK"
      }
    },
    {
      "cell_type": "code",
      "source": [
        "import nest_asyncio\n",
        "from llama_index.node_parser import SentenceSplitter\n",
        "from llama_index.schema import IndexNode\n",
        "from llama_index.extractors import (\n",
        "    SummaryExtractor,\n",
        "    QuestionsAnsweredExtractor,\n",
        ")\n",
        "nest_asyncio.apply()"
      ],
      "metadata": {
        "id": "XsdnsWrNWQFy"
      },
      "execution_count": 25,
      "outputs": []
    },
    {
      "cell_type": "code",
      "source": [
        "extractors = [\n",
        "    SummaryExtractor(summaries=[\"self\"], show_progress=True),\n",
        "    QuestionsAnsweredExtractor(questions=5, show_progress=True),\n",
        "]"
      ],
      "metadata": {
        "id": "xeQMWreKWUB2"
      },
      "execution_count": 26,
      "outputs": []
    },
    {
      "cell_type": "code",
      "source": [
        "node_to_metadata = {}\n",
        "for extractor in extractors:\n",
        "    metadata_dicts = extractor.extract(base_nodes)\n",
        "    for node, metadata in zip(base_nodes, metadata_dicts):\n",
        "        if node.node_id not in node_to_metadata:\n",
        "            node_to_metadata[node.node_id] = metadata\n",
        "        else:\n",
        "            node_to_metadata[node.node_id].update(metadata)"
      ],
      "metadata": {
        "colab": {
          "base_uri": "https://localhost:8080/"
        },
        "id": "amqGJq0gWWSu",
        "outputId": "c16d15da-2d2d-4c1e-9891-88c4aaed4d7f"
      },
      "execution_count": 27,
      "outputs": [
        {
          "output_type": "stream",
          "name": "stderr",
          "text": [
            "100%|██████████| 2/2 [00:03<00:00,  1.75s/it]\n",
            "100%|██████████| 2/2 [00:02<00:00,  1.39s/it]\n"
          ]
        }
      ]
    },
    {
      "cell_type": "code",
      "source": [
        "# cache metadata dicts\n",
        "def save_metadata_dicts(path, data):\n",
        "    with open(path, \"w\") as fp:\n",
        "        json.dump(data, fp)\n",
        "\n",
        "\n",
        "def load_metadata_dicts(path):\n",
        "    with open(path, \"r\") as fp:\n",
        "        data = json.load(fp)\n",
        "    return data"
      ],
      "metadata": {
        "id": "Q-GqdSLyWZii"
      },
      "execution_count": 28,
      "outputs": []
    },
    {
      "cell_type": "code",
      "source": [
        "import copy\n",
        "\n",
        "all_nodes = copy.deepcopy(base_nodes)\n",
        "for node_id, metadata in node_to_metadata.items():\n",
        "    for val in metadata.values():\n",
        "        all_nodes.append(IndexNode(text=val, index_id=node_id))"
      ],
      "metadata": {
        "id": "CCEw8JZufE5k"
      },
      "execution_count": 31,
      "outputs": []
    },
    {
      "cell_type": "code",
      "source": [
        "all_nodes_dict = {n.node_id: n for n in all_nodes}\n"
      ],
      "metadata": {
        "id": "1dsPtr-VfIBC"
      },
      "execution_count": 32,
      "outputs": []
    },
    {
      "cell_type": "code",
      "source": [
        "## Load index into vector index\n",
        "from llama_index import VectorStoreIndex, ServiceContext\n",
        "from llama_index.llms import OpenAI\n",
        "\n",
        "llm = OpenAI(model=\"gpt-3.5-turbo\")\n",
        "service_context = ServiceContext.from_defaults(llm=llm)\n",
        "\n",
        "vector_index_metadata = VectorStoreIndex(\n",
        "    all_nodes, service_context=service_context\n",
        ")"
      ],
      "metadata": {
        "id": "OfyqHLYjfNsb"
      },
      "execution_count": 33,
      "outputs": []
    },
    {
      "cell_type": "code",
      "source": [
        "vector_retriever_metadata = vector_index_metadata.as_retriever(\n",
        "    similarity_top_k=2\n",
        ")"
      ],
      "metadata": {
        "id": "o9nGFaPMfPRH"
      },
      "execution_count": 34,
      "outputs": []
    },
    {
      "cell_type": "code",
      "source": [
        "retriever_metadata = RecursiveRetriever(\n",
        "    \"vector\",\n",
        "    retriever_dict={\"vector\": vector_retriever_metadata},\n",
        "    node_dict=all_nodes_dict,\n",
        "    verbose=False,\n",
        ")"
      ],
      "metadata": {
        "id": "Q0Tq1ikufQiT"
      },
      "execution_count": 35,
      "outputs": []
    },
    {
      "cell_type": "code",
      "source": [
        "nodes = retriever_metadata.retrieve(\n",
        "  \"Sicile kayıtlı motorlu kara araçlarına ilişkin satış gideri ile taşınır mallara ilişkin satış giderinin farkı nedir türkçe yaz?\"\n",
        ")\n",
        "for node in nodes:\n",
        "    display_source_node(node, source_length=2000)"
      ],
      "metadata": {
        "colab": {
          "base_uri": "https://localhost:8080/",
          "height": 735
        },
        "id": "AzrPeV8xfRE8",
        "outputId": "e3ebb348-bd40-4f93-9790-7c9d0a0236ad"
      },
      "execution_count": 36,
      "outputs": [
        {
          "output_type": "display_data",
          "data": {
            "text/plain": [
              "<IPython.core.display.Markdown object>"
            ],
            "text/markdown": "**Node ID:** node-1<br>**Similarity:** 0.7229061547698868<br>**Text:** (3) İcra dosyasından birden fazla taşınmazın birlikte satışının talep edilmesi halinde, bir taşınmaz için satış\nücreti tam olarak alınır. Diğer taşınmazlar için ise ücret tablosunda belirtilen satış giderinin toplamından belirli\nmiktarda indirim yapılmak suretiyle avans olarak depo edilmesine icra müdürü tarafından karar verilebilir. Bu\nindirim tabloda belirtilen gider avansının yarısından fazla olamaz.\nSicile kayıtlı motorlu kara araçlarına ilişkin satış gideri \nMADDE 5 \n(1) Sicile kayıtlı motorlu kara araçlarının satışının talep edilmesi halinde satış giderleri tablosunda yer alan\nbuna ilişkin ücret esas alınır.\n(2) Sicile kayıtlı motorlu kara araçlarına ilişkin satış gideri; aracın muhafazası, kıymet takdiri ve satış giderleri\nesas alınarak belirlenmiştir.\nTaşınır mallara ilişkin satış gideri \nMADDE 6 \n(1) Taşınır malların satışının talep edilmesi halinde satış giderleri tablosunda yer alan buna ilişkin ücret esas\nalınır.\n(2) Taşınır mallara ilişkin satış gideri, kıymet takdiri ve satış giderleri esas alınarak belirlenmiştir.\nDiğer mallara ilişkin satış gideri \nMADDE 7 \n(1) Bu Tarifede satış gideri belirtilmeyen malların satışının talep edilmesi halinde, niteliğine uygun düştüğü\nölçüde satış gideri tablosunda yer alan ücretler esas alınır.\nSatış giderleri \nMADDE 8 \n(1) Bu Tarifeye göre yatırılması gereken satış giderleri aşağıda gösterilmiştir:\nTasinmaz Mallar Için\n25.000,00\nTL\nSicile\nKayitli\nMotorlu Kara\nAraçlari Için\nOtomobil ve\nDiger Yük\nVasitalari\n15.000,00\nTL\nKamyonet,\nMinibüs,\nMidibüs,\nArazi Tasiti\n16.000,00\nTL\nKamyon,\nOtobüs,\nÇekici (Tir)\n18.500,00\nTL\nIs\nMakineleri,\nRömork,\nÇekici+Römork\n20.500,00\nTL\nTasinir Mallar Için\n2.000,00 TL\nUygulanacak tarife \nMADDE 9 \n(1) Satış giderinin belirlenmesinde, satış talebinin yapıldığı tarihte yürürlükte bulunan tarife esas alınır. Bu\nTarifenin 3 üncü maddesinin ikinci fıkrası hükmü saklıdır.\nSatış Giderleri Tarifesi\nSayfa 2/3\n\n\nYürürlük \nMADDE 10 \n(1) Bu Tarife 1/1/2024 tarihinde yürürlüğe girer.\nYürütme \nMADDE 11 \n...<br>"
          },
          "metadata": {}
        },
        {
          "output_type": "display_data",
          "data": {
            "text/plain": [
              "<IPython.core.display.Markdown object>"
            ],
            "text/markdown": "**Node ID:** node-0<br>**Similarity:** 0.7157806038099697<br>**Text:** Satış Giderleri Tarifesi\nRG 21.12.2023/32406\nYürürlüğe Giriş Tarihi: 1.1.2024\nBelgeyi Lexpera’da Görüntüle\nAmaç ve kapsam - MADDE 1\n1\nDayanak - MADDE 2\n1\nSatış giderinin avans olarak ödenmesi - MADDE 3\n1\nTaşınmaz mallara ilişkin satış gideri - MADDE 4\n1\nSicile kayıtlı motorlu kara araçlarına ilişkin satış gideri - MADDE 5\n2\nTaşınır mallara ilişkin satış gideri - MADDE 6\n2\nDiğer mallara ilişkin satış gideri - MADDE 7\n2\nSatış giderleri - MADDE 8\n2\nUygulanacak tarife - MADDE 9\n2\nYürürlük - MADDE 10\n3\nYürütme - MADDE 11\n3\nAmaç ve kapsam \nMADDE 1 \n(1) Bu Tarifenin amacı; 9/6/1932 tarihli ve 2004 sayılı İcra ve İflâs Kanununun 106 ncı maddesi gereğince\nicra dairelerince yapılacak olan satışa hazırlık ve satış işlemleri için alınacak ücretlere ilişkin usul ve esasları\nbelirlemektir.\nDayanak \nMADDE 2 \n(1) Bu Tarife, 9/6/1932 tarihli ve 2004 sayılı İcra ve İflâs Kanununun 106 ncı maddesinin yedinci fıkrasına\ndayanılarak hazırlanmıştır.\nSatış giderinin avans olarak ödenmesi \nMADDE 3 \n(1) Satış talep edilmesi halinde ücret tablosunda yer alan satışı istenen mahcuz mala ait satış giderlerinin\npeşin olarak yatırılması zorunludur.\n(2) Satış işlemleri sırasında bu Tarifede belirtilen ve peşin olarak yatırılan miktarın yetersiz kaldığı anlaşılırsa\nicra müdürü tarafından miktarın tamamlanması için satış isteyene on beş günlük süre verilir.\nTaşınmaz mallara ilişkin satış gideri \nMADDE 4 \n(1) Taşınmaz malların satışının talep edilmesi halinde satış giderleri tablosunda yer alan buna ilişkin ücret\nesas alınır.\n(2) Taşınmaz mallara ilişkin satış gideri, kıymet takdiri ve satış giderleri esas alınarak belirlenmiştir.\nSayfa 1/3<br>"
          },
          "metadata": {}
        }
      ]
    },
    {
      "cell_type": "code",
      "source": [
        "query_engine_metadata = RetrieverQueryEngine.from_args(\n",
        "    retriever_metadata, service_context=service_context\n",
        ")"
      ],
      "metadata": {
        "id": "iHzXzsW0fUjY"
      },
      "execution_count": 37,
      "outputs": []
    },
    {
      "cell_type": "code",
      "source": [
        "response = query_engine_metadata.query(\n",
        "  \"Sicile kayıtlı motorlu kara araçlarına ilişkin satış gideri ile taşınır mallara ilişkin satış giderinin farkı nedir türkçe yaz?\"\n",
        ")\n",
        "print(str(response))"
      ],
      "metadata": {
        "colab": {
          "base_uri": "https://localhost:8080/"
        },
        "id": "eadArzTCfVtm",
        "outputId": "509a3b93-2204-4352-cc60-7145ea1d09e7"
      },
      "execution_count": 38,
      "outputs": [
        {
          "output_type": "stream",
          "name": "stdout",
          "text": [
            "Sicile kayıtlı motorlu kara araçlarına ilişkin satış gideri, aracın muhafazası, kıymet takdiri ve satış giderleri esas alınarak belirlenirken, taşınır mallara ilişkin satış gideri ise sadece kıymet takdiri ve satış giderleri esas alınarak belirlenir.\n"
          ]
        }
      ]
    },
    {
      "cell_type": "markdown",
      "source": [
        "# Değerlendirme"
      ],
      "metadata": {
        "id": "usBvdFCbfbzy"
      }
    },
    {
      "cell_type": "code",
      "source": [
        "from llama_index.evaluation import (\n",
        "    generate_question_context_pairs,\n",
        "    EmbeddingQAFinetuneDataset,\n",
        ")\n",
        "from llama_index.llms import OpenAI\n",
        "\n",
        "import nest_asyncio\n",
        "\n",
        "nest_asyncio.apply()"
      ],
      "metadata": {
        "id": "8hVKBqyafcys"
      },
      "execution_count": 39,
      "outputs": []
    },
    {
      "cell_type": "code",
      "source": [
        "eval_dataset = generate_question_context_pairs(\n",
        "    base_nodes, OpenAI(model=\"gpt-3.5-turbo\")\n",
        ")"
      ],
      "metadata": {
        "colab": {
          "base_uri": "https://localhost:8080/"
        },
        "id": "9grfPX8ifh55",
        "outputId": "4a3e51cb-3bd8-4fbe-b97c-4f7b6ce55fa9"
      },
      "execution_count": 40,
      "outputs": [
        {
          "output_type": "stream",
          "name": "stderr",
          "text": [
            "100%|██████████| 2/2 [00:02<00:00,  1.49s/it]\n"
          ]
        }
      ]
    },
    {
      "cell_type": "code",
      "source": [
        "eval_dataset.save_json(\"/content/data/llama2_eval_dataset.json\")\n"
      ],
      "metadata": {
        "id": "h7t1zMH2fk64"
      },
      "execution_count": 43,
      "outputs": []
    },
    {
      "cell_type": "code",
      "source": [
        "# optional\n",
        "eval_dataset = EmbeddingQAFinetuneDataset.from_json(\n",
        "    \"data/llama2_eval_dataset.json\"\n",
        ")"
      ],
      "metadata": {
        "id": "5DcIcrM6fneJ"
      },
      "execution_count": 44,
      "outputs": []
    },
    {
      "cell_type": "markdown",
      "source": [
        "# Sonuçları Karşılaştır"
      ],
      "metadata": {
        "id": "TBFq_gqrfuPO"
      }
    },
    {
      "cell_type": "code",
      "source": [
        "import pandas as pd\n",
        "from llama_index.evaluation import RetrieverEvaluator, get_retrieval_results_df\n",
        "\n",
        "# set vector retriever similarity top k to higher\n",
        "top_k = 10\n",
        "\n",
        "\n",
        "def display_results(names, results_arr):\n",
        "    \"\"\"Display results from evaluate.\"\"\"\n",
        "\n",
        "    hit_rates = []\n",
        "    mrrs = []\n",
        "    for name, eval_results in zip(names, results_arr):\n",
        "        metric_dicts = []\n",
        "        for eval_result in eval_results:\n",
        "            metric_dict = eval_result.metric_vals_dict\n",
        "            metric_dicts.append(metric_dict)\n",
        "        results_df = pd.DataFrame(metric_dicts)\n",
        "\n",
        "        hit_rate = results_df[\"hit_rate\"].mean()\n",
        "        mrr = results_df[\"mrr\"].mean()\n",
        "        hit_rates.append(hit_rate)\n",
        "        mrrs.append(mrr)\n",
        "\n",
        "    final_df = pd.DataFrame(\n",
        "        {\"retrievers\": names, \"hit_rate\": hit_rates, \"mrr\": mrrs}\n",
        "    )\n",
        "    display(final_df)"
      ],
      "metadata": {
        "id": "FBq6xGX_fvwa"
      },
      "execution_count": 45,
      "outputs": []
    },
    {
      "cell_type": "code",
      "source": [
        "vector_retriever_chunk = vector_index_chunk.as_retriever(\n",
        "    similarity_top_k=top_k\n",
        ")\n",
        "retriever_chunk = RecursiveRetriever(\n",
        "    \"vector\",\n",
        "    retriever_dict={\"vector\": vector_retriever_chunk},\n",
        "    node_dict=all_nodes_dict,\n",
        "    verbose=True,\n",
        ")\n",
        "retriever_evaluator = RetrieverEvaluator.from_metric_names(\n",
        "    [\"mrr\", \"hit_rate\"], retriever=retriever_chunk\n",
        ")\n",
        "# try it out on an entire dataset\n",
        "results_chunk = await retriever_evaluator.aevaluate_dataset(\n",
        "    eval_dataset, show_progress=True\n",
        ")"
      ],
      "metadata": {
        "colab": {
          "base_uri": "https://localhost:8080/"
        },
        "id": "z6zf0Q_BfyU3",
        "outputId": "08c7bd6e-c477-4d5d-bd6b-60ac8647df32"
      },
      "execution_count": 46,
      "outputs": [
        {
          "output_type": "stream",
          "name": "stderr",
          "text": [
            "\r  0%|          | 0/4 [00:00<?, ?it/s]"
          ]
        },
        {
          "output_type": "stream",
          "name": "stdout",
          "text": [
            "\u001b[1;3;34mRetrieving with query id None: How are the sales expenses determined for movable goods and other goods that are not specified in the sales expense table?\n",
            "\u001b[0m\u001b[1;3;38;5;200mRetrieved node with id, entering: node-1\n",
            "\u001b[0m\u001b[1;3;34mRetrieving with query id node-1: How are the sales expenses determined for movable goods and other goods that are not specified in the sales expense table?\n",
            "\u001b[0m\u001b[1;3;38;5;200mRetrieved node with id, entering: node-0\n",
            "\u001b[0m\u001b[1;3;34mRetrieving with query id node-0: How are the sales expenses determined for movable goods and other goods that are not specified in the sales expense table?\n",
            "\u001b[0m\u001b[1;3;34mRetrieving with query id None: What is the procedure for determining the sales fee for multiple properties requested to be sold together in an execution file?\n",
            "\u001b[0m\u001b[1;3;38;5;200mRetrieved node with id, entering: node-0\n",
            "\u001b[0m\u001b[1;3;34mRetrieving with query id node-0: What is the procedure for determining the sales fee for multiple properties requested to be sold together in an execution file?\n",
            "\u001b[0m\u001b[1;3;38;5;200mRetrieved node with id, entering: node-1\n",
            "\u001b[0m\u001b[1;3;34mRetrieving with query id node-1: What is the procedure for determining the sales fee for multiple properties requested to be sold together in an execution file?\n",
            "\u001b[0m\u001b[1;3;34mRetrieving with query id None: In relation to the sales of immovable properties, how are the sales expenses determined and what factors are taken into consideration?\n",
            "\u001b[0m"
          ]
        },
        {
          "output_type": "stream",
          "name": "stderr",
          "text": [
            "100%|██████████| 4/4 [00:00<00:00, 13.42it/s]"
          ]
        },
        {
          "output_type": "stream",
          "name": "stdout",
          "text": [
            "\u001b[1;3;38;5;200mRetrieved node with id, entering: node-1\n",
            "\u001b[0m\u001b[1;3;34mRetrieving with query id node-1: In relation to the sales of immovable properties, how are the sales expenses determined and what factors are taken into consideration?\n",
            "\u001b[0m\u001b[1;3;38;5;200mRetrieved node with id, entering: node-0\n",
            "\u001b[0m\u001b[1;3;34mRetrieving with query id node-0: In relation to the sales of immovable properties, how are the sales expenses determined and what factors are taken into consideration?\n",
            "\u001b[0m\u001b[1;3;34mRetrieving with query id None: According to the Sales Expenses Tariff, what is the purpose of the document and what does it aim to determine?\n",
            "\u001b[0m\u001b[1;3;38;5;200mRetrieved node with id, entering: node-1\n",
            "\u001b[0m\u001b[1;3;34mRetrieving with query id node-1: According to the Sales Expenses Tariff, what is the purpose of the document and what does it aim to determine?\n",
            "\u001b[0m\u001b[1;3;38;5;200mRetrieved node with id, entering: node-0\n",
            "\u001b[0m\u001b[1;3;34mRetrieving with query id node-0: According to the Sales Expenses Tariff, what is the purpose of the document and what does it aim to determine?\n",
            "\u001b[0m"
          ]
        },
        {
          "output_type": "stream",
          "name": "stderr",
          "text": [
            "\n"
          ]
        }
      ]
    },
    {
      "cell_type": "code",
      "source": [
        "vector_retriever_metadata = vector_index_metadata.as_retriever(\n",
        "    similarity_top_k=top_k\n",
        ")\n",
        "retriever_metadata = RecursiveRetriever(\n",
        "    \"vector\",\n",
        "    retriever_dict={\"vector\": vector_retriever_metadata},\n",
        "    node_dict=all_nodes_dict,\n",
        "    verbose=True,\n",
        ")\n",
        "retriever_evaluator = RetrieverEvaluator.from_metric_names(\n",
        "    [\"mrr\", \"hit_rate\"], retriever=retriever_metadata\n",
        ")\n",
        "# try it out on an entire dataset\n",
        "results_metadata = await retriever_evaluator.aevaluate_dataset(\n",
        "    eval_dataset, show_progress=True\n",
        ")"
      ],
      "metadata": {
        "colab": {
          "base_uri": "https://localhost:8080/"
        },
        "id": "NXLkm6q8f0f7",
        "outputId": "b817df97-aa64-4bcd-a598-3e67e1708b10"
      },
      "execution_count": 47,
      "outputs": [
        {
          "output_type": "stream",
          "name": "stderr",
          "text": [
            "\r  0%|          | 0/4 [00:00<?, ?it/s]"
          ]
        },
        {
          "output_type": "stream",
          "name": "stdout",
          "text": [
            "\u001b[1;3;34mRetrieving with query id None: How are the sales expenses determined for movable goods and other goods that are not specified in the sales expense table?\n",
            "\u001b[0m\u001b[1;3;38;5;200mRetrieved node with id, entering: node-1\n",
            "\u001b[0m\u001b[1;3;34mRetrieving with query id node-1: How are the sales expenses determined for movable goods and other goods that are not specified in the sales expense table?\n",
            "\u001b[0m\u001b[1;3;38;5;200mRetrieved node with id, entering: node-0\n",
            "\u001b[0m\u001b[1;3;34mRetrieving with query id node-0: How are the sales expenses determined for movable goods and other goods that are not specified in the sales expense table?\n",
            "\u001b[0m\u001b[1;3;38;5;200mRetrieving text node: (3) İcra dosyasından birden fazla taşınmazın birlikte satışının talep edilmesi halinde, bir taşınmaz için satış\n",
            "ücreti tam olarak alınır. Diğer taşınmazlar için ise ücret tablosunda belirtilen satış giderinin toplamından belirli\n",
            "miktarda indirim yapılmak suretiyle avans olarak depo edilmesine icra müdürü tarafından karar verilebilir. Bu\n",
            "indirim tabloda belirtilen gider avansının yarısından fazla olamaz.\n",
            "Sicile kayıtlı motorlu kara araçlarına ilişkin satış gideri \n",
            "MADDE 5 \n",
            "(1) Sicile kayıtlı motorlu kara araçlarının satışının talep edilmesi halinde satış giderleri tablosunda yer alan\n",
            "buna ilişkin ücret esas alınır.\n",
            "(2) Sicile kayıtlı motorlu kara araçlarına ilişkin satış gideri; aracın muhafazası, kıymet takdiri ve satış giderleri\n",
            "esas alınarak belirlenmiştir.\n",
            "Taşınır mallara ilişkin satış gideri \n",
            "MADDE 6 \n",
            "(1) Taşınır malların satışının talep edilmesi halinde satış giderleri tablosunda yer alan buna ilişkin ücret esas\n",
            "alınır.\n",
            "(2) Taşınır mallara ilişkin satış gideri, kıymet takdiri ve satış giderleri esas alınarak belirlenmiştir.\n",
            "Diğer mallara ilişkin satış gideri \n",
            "MADDE 7 \n",
            "(1) Bu Tarifede satış gideri belirtilmeyen malların satışının talep edilmesi halinde, niteliğine uygun düştüğü\n",
            "ölçüde satış gideri tablosunda yer alan ücretler esas alınır.\n",
            "Satış giderleri \n",
            "MADDE 8 \n",
            "(1) Bu Tarifeye göre yatırılması gereken satış giderleri aşağıda gösterilmiştir:\n",
            "Tasinmaz Mallar Için\n",
            "25.000,00\n",
            "TL\n",
            "Sicile\n",
            "Kayitli\n",
            "Motorlu Kara\n",
            "Araçlari Için\n",
            "Otomobil ve\n",
            "Diger Yük\n",
            "Vasitalari\n",
            "15.000,00\n",
            "TL\n",
            "Kamyonet,\n",
            "Minibüs,\n",
            "Midibüs,\n",
            "Arazi Tasiti\n",
            "16.000,00\n",
            "TL\n",
            "Kamyon,\n",
            "Otobüs,\n",
            "Çekici (Tir)\n",
            "18.500,00\n",
            "TL\n",
            "Is\n",
            "Makineleri,\n",
            "Römork,\n",
            "Çekici+Römork\n",
            "20.500,00\n",
            "TL\n",
            "Tasinir Mallar Için\n",
            "2.000,00 TL\n",
            "Uygulanacak tarife \n",
            "MADDE 9 \n",
            "(1) Satış giderinin belirlenmesinde, satış talebinin yapıldığı tarihte yürürlükte bulunan tarife esas alınır. Bu\n",
            "Tarifenin 3 üncü maddesinin ikinci fıkrası hükmü saklıdır.\n",
            "Satış Giderleri Tarifesi\n",
            "Sayfa 2/3\n",
            "\n",
            "\n",
            "Yürürlük \n",
            "MADDE 10 \n",
            "(1) Bu Tarife 1/1/2024 tarihinde yürürlüğe girer.\n",
            "Yürütme \n",
            "MADDE 11 \n",
            "(1) Bu Tarife hükümlerini Adalet Bakanı yürütür.\n",
            "Sayfa 3/3\n",
            "\u001b[0m\u001b[1;3;38;5;200mRetrieving text node: Satış Giderleri Tarifesi\n",
            "RG 21.12.2023/32406\n",
            "Yürürlüğe Giriş Tarihi: 1.1.2024\n",
            "Belgeyi Lexpera’da Görüntüle\n",
            "Amaç ve kapsam - MADDE 1\n",
            "1\n",
            "Dayanak - MADDE 2\n",
            "1\n",
            "Satış giderinin avans olarak ödenmesi - MADDE 3\n",
            "1\n",
            "Taşınmaz mallara ilişkin satış gideri - MADDE 4\n",
            "1\n",
            "Sicile kayıtlı motorlu kara araçlarına ilişkin satış gideri - MADDE 5\n",
            "2\n",
            "Taşınır mallara ilişkin satış gideri - MADDE 6\n",
            "2\n",
            "Diğer mallara ilişkin satış gideri - MADDE 7\n",
            "2\n",
            "Satış giderleri - MADDE 8\n",
            "2\n",
            "Uygulanacak tarife - MADDE 9\n",
            "2\n",
            "Yürürlük - MADDE 10\n",
            "3\n",
            "Yürütme - MADDE 11\n",
            "3\n",
            "Amaç ve kapsam \n",
            "MADDE 1 \n",
            "(1) Bu Tarifenin amacı; 9/6/1932 tarihli ve 2004 sayılı İcra ve İflâs Kanununun 106 ncı maddesi gereğince\n",
            "icra dairelerince yapılacak olan satışa hazırlık ve satış işlemleri için alınacak ücretlere ilişkin usul ve esasları\n",
            "belirlemektir.\n",
            "Dayanak \n",
            "MADDE 2 \n",
            "(1) Bu Tarife, 9/6/1932 tarihli ve 2004 sayılı İcra ve İflâs Kanununun 106 ncı maddesinin yedinci fıkrasına\n",
            "dayanılarak hazırlanmıştır.\n",
            "Satış giderinin avans olarak ödenmesi \n",
            "MADDE 3 \n",
            "(1) Satış talep edilmesi halinde ücret tablosunda yer alan satışı istenen mahcuz mala ait satış giderlerinin\n",
            "peşin olarak yatırılması zorunludur.\n",
            "(2) Satış işlemleri sırasında bu Tarifede belirtilen ve peşin olarak yatırılan miktarın yetersiz kaldığı anlaşılırsa\n",
            "icra müdürü tarafından miktarın tamamlanması için satış isteyene on beş günlük süre verilir.\n",
            "Taşınmaz mallara ilişkin satış gideri \n",
            "MADDE 4 \n",
            "(1) Taşınmaz malların satışının talep edilmesi halinde satış giderleri tablosunda yer alan buna ilişkin ücret\n",
            "esas alınır.\n",
            "(2) Taşınmaz mallara ilişkin satış gideri, kıymet takdiri ve satış giderleri esas alınarak belirlenmiştir.\n",
            "Sayfa 1/3\n",
            "\u001b[0m\u001b[1;3;34mRetrieving with query id None: What is the procedure for determining the sales fee for multiple properties requested to be sold together in an execution file?\n",
            "\u001b[0m\u001b[1;3;38;5;200mRetrieved node with id, entering: node-1\n",
            "\u001b[0m\u001b[1;3;34mRetrieving with query id node-1: What is the procedure for determining the sales fee for multiple properties requested to be sold together in an execution file?\n",
            "\u001b[0m\u001b[1;3;38;5;200mRetrieved node with id, entering: node-0\n",
            "\u001b[0m\u001b[1;3;34mRetrieving with query id node-0: What is the procedure for determining the sales fee for multiple properties requested to be sold together in an execution file?\n",
            "\u001b[0m\u001b[1;3;38;5;200mRetrieving text node: (3) İcra dosyasından birden fazla taşınmazın birlikte satışının talep edilmesi halinde, bir taşınmaz için satış\n",
            "ücreti tam olarak alınır. Diğer taşınmazlar için ise ücret tablosunda belirtilen satış giderinin toplamından belirli\n",
            "miktarda indirim yapılmak suretiyle avans olarak depo edilmesine icra müdürü tarafından karar verilebilir. Bu\n",
            "indirim tabloda belirtilen gider avansının yarısından fazla olamaz.\n",
            "Sicile kayıtlı motorlu kara araçlarına ilişkin satış gideri \n",
            "MADDE 5 \n",
            "(1) Sicile kayıtlı motorlu kara araçlarının satışının talep edilmesi halinde satış giderleri tablosunda yer alan\n",
            "buna ilişkin ücret esas alınır.\n",
            "(2) Sicile kayıtlı motorlu kara araçlarına ilişkin satış gideri; aracın muhafazası, kıymet takdiri ve satış giderleri\n",
            "esas alınarak belirlenmiştir.\n",
            "Taşınır mallara ilişkin satış gideri \n",
            "MADDE 6 \n",
            "(1) Taşınır malların satışının talep edilmesi halinde satış giderleri tablosunda yer alan buna ilişkin ücret esas\n",
            "alınır.\n",
            "(2) Taşınır mallara ilişkin satış gideri, kıymet takdiri ve satış giderleri esas alınarak belirlenmiştir.\n",
            "Diğer mallara ilişkin satış gideri \n",
            "MADDE 7 \n",
            "(1) Bu Tarifede satış gideri belirtilmeyen malların satışının talep edilmesi halinde, niteliğine uygun düştüğü\n",
            "ölçüde satış gideri tablosunda yer alan ücretler esas alınır.\n",
            "Satış giderleri \n",
            "MADDE 8 \n",
            "(1) Bu Tarifeye göre yatırılması gereken satış giderleri aşağıda gösterilmiştir:\n",
            "Tasinmaz Mallar Için\n",
            "25.000,00\n",
            "TL\n",
            "Sicile\n",
            "Kayitli\n",
            "Motorlu Kara\n",
            "Araçlari Için\n",
            "Otomobil ve\n",
            "Diger Yük\n",
            "Vasitalari\n",
            "15.000,00\n",
            "TL\n",
            "Kamyonet,\n",
            "Minibüs,\n",
            "Midibüs,\n",
            "Arazi Tasiti\n",
            "16.000,00\n",
            "TL\n",
            "Kamyon,\n",
            "Otobüs,\n",
            "Çekici (Tir)\n",
            "18.500,00\n",
            "TL\n",
            "Is\n",
            "Makineleri,\n",
            "Römork,\n",
            "Çekici+Römork\n",
            "20.500,00\n",
            "TL\n",
            "Tasinir Mallar Için\n",
            "2.000,00 TL\n",
            "Uygulanacak tarife \n",
            "MADDE 9 \n",
            "(1) Satış giderinin belirlenmesinde, satış talebinin yapıldığı tarihte yürürlükte bulunan tarife esas alınır. Bu\n",
            "Tarifenin 3 üncü maddesinin ikinci fıkrası hükmü saklıdır.\n",
            "Satış Giderleri Tarifesi\n",
            "Sayfa 2/3\n",
            "\n",
            "\n",
            "Yürürlük \n",
            "MADDE 10 \n",
            "(1) Bu Tarife 1/1/2024 tarihinde yürürlüğe girer.\n",
            "Yürütme \n",
            "MADDE 11 \n",
            "(1) Bu Tarife hükümlerini Adalet Bakanı yürütür.\n",
            "Sayfa 3/3\n",
            "\u001b[0m\u001b[1;3;38;5;200mRetrieving text node: Satış Giderleri Tarifesi\n",
            "RG 21.12.2023/32406\n",
            "Yürürlüğe Giriş Tarihi: 1.1.2024\n",
            "Belgeyi Lexpera’da Görüntüle\n",
            "Amaç ve kapsam - MADDE 1\n",
            "1\n",
            "Dayanak - MADDE 2\n",
            "1\n",
            "Satış giderinin avans olarak ödenmesi - MADDE 3\n",
            "1\n",
            "Taşınmaz mallara ilişkin satış gideri - MADDE 4\n",
            "1\n",
            "Sicile kayıtlı motorlu kara araçlarına ilişkin satış gideri - MADDE 5\n",
            "2\n",
            "Taşınır mallara ilişkin satış gideri - MADDE 6\n",
            "2\n",
            "Diğer mallara ilişkin satış gideri - MADDE 7\n",
            "2\n",
            "Satış giderleri - MADDE 8\n",
            "2\n",
            "Uygulanacak tarife - MADDE 9\n",
            "2\n",
            "Yürürlük - MADDE 10\n",
            "3\n",
            "Yürütme - MADDE 11\n",
            "3\n",
            "Amaç ve kapsam \n",
            "MADDE 1 \n",
            "(1) Bu Tarifenin amacı; 9/6/1932 tarihli ve 2004 sayılı İcra ve İflâs Kanununun 106 ncı maddesi gereğince\n",
            "icra dairelerince yapılacak olan satışa hazırlık ve satış işlemleri için alınacak ücretlere ilişkin usul ve esasları\n",
            "belirlemektir.\n",
            "Dayanak \n",
            "MADDE 2 \n",
            "(1) Bu Tarife, 9/6/1932 tarihli ve 2004 sayılı İcra ve İflâs Kanununun 106 ncı maddesinin yedinci fıkrasına\n",
            "dayanılarak hazırlanmıştır.\n",
            "Satış giderinin avans olarak ödenmesi \n",
            "MADDE 3 \n",
            "(1) Satış talep edilmesi halinde ücret tablosunda yer alan satışı istenen mahcuz mala ait satış giderlerinin\n",
            "peşin olarak yatırılması zorunludur.\n",
            "(2) Satış işlemleri sırasında bu Tarifede belirtilen ve peşin olarak yatırılan miktarın yetersiz kaldığı anlaşılırsa\n",
            "icra müdürü tarafından miktarın tamamlanması için satış isteyene on beş günlük süre verilir.\n",
            "Taşınmaz mallara ilişkin satış gideri \n",
            "MADDE 4 \n",
            "(1) Taşınmaz malların satışının talep edilmesi halinde satış giderleri tablosunda yer alan buna ilişkin ücret\n",
            "esas alınır.\n",
            "(2) Taşınmaz mallara ilişkin satış gideri, kıymet takdiri ve satış giderleri esas alınarak belirlenmiştir.\n",
            "Sayfa 1/3\n",
            "\u001b[0m\u001b[1;3;34mRetrieving with query id None: In relation to the sales of immovable properties, how are the sales expenses determined and what factors are taken into consideration?\n",
            "\u001b[0m"
          ]
        },
        {
          "output_type": "stream",
          "name": "stderr",
          "text": [
            "100%|██████████| 4/4 [00:00<00:00,  4.16it/s]"
          ]
        },
        {
          "output_type": "stream",
          "name": "stdout",
          "text": [
            "\u001b[1;3;38;5;200mRetrieved node with id, entering: node-0\n",
            "\u001b[0m\u001b[1;3;34mRetrieving with query id node-0: In relation to the sales of immovable properties, how are the sales expenses determined and what factors are taken into consideration?\n",
            "\u001b[0m\u001b[1;3;38;5;200mRetrieved node with id, entering: node-1\n",
            "\u001b[0m\u001b[1;3;34mRetrieving with query id node-1: In relation to the sales of immovable properties, how are the sales expenses determined and what factors are taken into consideration?\n",
            "\u001b[0m\u001b[1;3;38;5;200mRetrieving text node: (3) İcra dosyasından birden fazla taşınmazın birlikte satışının talep edilmesi halinde, bir taşınmaz için satış\n",
            "ücreti tam olarak alınır. Diğer taşınmazlar için ise ücret tablosunda belirtilen satış giderinin toplamından belirli\n",
            "miktarda indirim yapılmak suretiyle avans olarak depo edilmesine icra müdürü tarafından karar verilebilir. Bu\n",
            "indirim tabloda belirtilen gider avansının yarısından fazla olamaz.\n",
            "Sicile kayıtlı motorlu kara araçlarına ilişkin satış gideri \n",
            "MADDE 5 \n",
            "(1) Sicile kayıtlı motorlu kara araçlarının satışının talep edilmesi halinde satış giderleri tablosunda yer alan\n",
            "buna ilişkin ücret esas alınır.\n",
            "(2) Sicile kayıtlı motorlu kara araçlarına ilişkin satış gideri; aracın muhafazası, kıymet takdiri ve satış giderleri\n",
            "esas alınarak belirlenmiştir.\n",
            "Taşınır mallara ilişkin satış gideri \n",
            "MADDE 6 \n",
            "(1) Taşınır malların satışının talep edilmesi halinde satış giderleri tablosunda yer alan buna ilişkin ücret esas\n",
            "alınır.\n",
            "(2) Taşınır mallara ilişkin satış gideri, kıymet takdiri ve satış giderleri esas alınarak belirlenmiştir.\n",
            "Diğer mallara ilişkin satış gideri \n",
            "MADDE 7 \n",
            "(1) Bu Tarifede satış gideri belirtilmeyen malların satışının talep edilmesi halinde, niteliğine uygun düştüğü\n",
            "ölçüde satış gideri tablosunda yer alan ücretler esas alınır.\n",
            "Satış giderleri \n",
            "MADDE 8 \n",
            "(1) Bu Tarifeye göre yatırılması gereken satış giderleri aşağıda gösterilmiştir:\n",
            "Tasinmaz Mallar Için\n",
            "25.000,00\n",
            "TL\n",
            "Sicile\n",
            "Kayitli\n",
            "Motorlu Kara\n",
            "Araçlari Için\n",
            "Otomobil ve\n",
            "Diger Yük\n",
            "Vasitalari\n",
            "15.000,00\n",
            "TL\n",
            "Kamyonet,\n",
            "Minibüs,\n",
            "Midibüs,\n",
            "Arazi Tasiti\n",
            "16.000,00\n",
            "TL\n",
            "Kamyon,\n",
            "Otobüs,\n",
            "Çekici (Tir)\n",
            "18.500,00\n",
            "TL\n",
            "Is\n",
            "Makineleri,\n",
            "Römork,\n",
            "Çekici+Römork\n",
            "20.500,00\n",
            "TL\n",
            "Tasinir Mallar Için\n",
            "2.000,00 TL\n",
            "Uygulanacak tarife \n",
            "MADDE 9 \n",
            "(1) Satış giderinin belirlenmesinde, satış talebinin yapıldığı tarihte yürürlükte bulunan tarife esas alınır. Bu\n",
            "Tarifenin 3 üncü maddesinin ikinci fıkrası hükmü saklıdır.\n",
            "Satış Giderleri Tarifesi\n",
            "Sayfa 2/3\n",
            "\n",
            "\n",
            "Yürürlük \n",
            "MADDE 10 \n",
            "(1) Bu Tarife 1/1/2024 tarihinde yürürlüğe girer.\n",
            "Yürütme \n",
            "MADDE 11 \n",
            "(1) Bu Tarife hükümlerini Adalet Bakanı yürütür.\n",
            "Sayfa 3/3\n",
            "\u001b[0m\u001b[1;3;38;5;200mRetrieving text node: Satış Giderleri Tarifesi\n",
            "RG 21.12.2023/32406\n",
            "Yürürlüğe Giriş Tarihi: 1.1.2024\n",
            "Belgeyi Lexpera’da Görüntüle\n",
            "Amaç ve kapsam - MADDE 1\n",
            "1\n",
            "Dayanak - MADDE 2\n",
            "1\n",
            "Satış giderinin avans olarak ödenmesi - MADDE 3\n",
            "1\n",
            "Taşınmaz mallara ilişkin satış gideri - MADDE 4\n",
            "1\n",
            "Sicile kayıtlı motorlu kara araçlarına ilişkin satış gideri - MADDE 5\n",
            "2\n",
            "Taşınır mallara ilişkin satış gideri - MADDE 6\n",
            "2\n",
            "Diğer mallara ilişkin satış gideri - MADDE 7\n",
            "2\n",
            "Satış giderleri - MADDE 8\n",
            "2\n",
            "Uygulanacak tarife - MADDE 9\n",
            "2\n",
            "Yürürlük - MADDE 10\n",
            "3\n",
            "Yürütme - MADDE 11\n",
            "3\n",
            "Amaç ve kapsam \n",
            "MADDE 1 \n",
            "(1) Bu Tarifenin amacı; 9/6/1932 tarihli ve 2004 sayılı İcra ve İflâs Kanununun 106 ncı maddesi gereğince\n",
            "icra dairelerince yapılacak olan satışa hazırlık ve satış işlemleri için alınacak ücretlere ilişkin usul ve esasları\n",
            "belirlemektir.\n",
            "Dayanak \n",
            "MADDE 2 \n",
            "(1) Bu Tarife, 9/6/1932 tarihli ve 2004 sayılı İcra ve İflâs Kanununun 106 ncı maddesinin yedinci fıkrasına\n",
            "dayanılarak hazırlanmıştır.\n",
            "Satış giderinin avans olarak ödenmesi \n",
            "MADDE 3 \n",
            "(1) Satış talep edilmesi halinde ücret tablosunda yer alan satışı istenen mahcuz mala ait satış giderlerinin\n",
            "peşin olarak yatırılması zorunludur.\n",
            "(2) Satış işlemleri sırasında bu Tarifede belirtilen ve peşin olarak yatırılan miktarın yetersiz kaldığı anlaşılırsa\n",
            "icra müdürü tarafından miktarın tamamlanması için satış isteyene on beş günlük süre verilir.\n",
            "Taşınmaz mallara ilişkin satış gideri \n",
            "MADDE 4 \n",
            "(1) Taşınmaz malların satışının talep edilmesi halinde satış giderleri tablosunda yer alan buna ilişkin ücret\n",
            "esas alınır.\n",
            "(2) Taşınmaz mallara ilişkin satış gideri, kıymet takdiri ve satış giderleri esas alınarak belirlenmiştir.\n",
            "Sayfa 1/3\n",
            "\u001b[0m\u001b[1;3;34mRetrieving with query id None: According to the Sales Expenses Tariff, what is the purpose of the document and what does it aim to determine?\n",
            "\u001b[0m\u001b[1;3;38;5;200mRetrieved node with id, entering: node-0\n",
            "\u001b[0m\u001b[1;3;34mRetrieving with query id node-0: According to the Sales Expenses Tariff, what is the purpose of the document and what does it aim to determine?\n",
            "\u001b[0m\u001b[1;3;38;5;200mRetrieved node with id, entering: node-1\n",
            "\u001b[0m\u001b[1;3;34mRetrieving with query id node-1: According to the Sales Expenses Tariff, what is the purpose of the document and what does it aim to determine?\n",
            "\u001b[0m\u001b[1;3;38;5;200mRetrieving text node: Satış Giderleri Tarifesi\n",
            "RG 21.12.2023/32406\n",
            "Yürürlüğe Giriş Tarihi: 1.1.2024\n",
            "Belgeyi Lexpera’da Görüntüle\n",
            "Amaç ve kapsam - MADDE 1\n",
            "1\n",
            "Dayanak - MADDE 2\n",
            "1\n",
            "Satış giderinin avans olarak ödenmesi - MADDE 3\n",
            "1\n",
            "Taşınmaz mallara ilişkin satış gideri - MADDE 4\n",
            "1\n",
            "Sicile kayıtlı motorlu kara araçlarına ilişkin satış gideri - MADDE 5\n",
            "2\n",
            "Taşınır mallara ilişkin satış gideri - MADDE 6\n",
            "2\n",
            "Diğer mallara ilişkin satış gideri - MADDE 7\n",
            "2\n",
            "Satış giderleri - MADDE 8\n",
            "2\n",
            "Uygulanacak tarife - MADDE 9\n",
            "2\n",
            "Yürürlük - MADDE 10\n",
            "3\n",
            "Yürütme - MADDE 11\n",
            "3\n",
            "Amaç ve kapsam \n",
            "MADDE 1 \n",
            "(1) Bu Tarifenin amacı; 9/6/1932 tarihli ve 2004 sayılı İcra ve İflâs Kanununun 106 ncı maddesi gereğince\n",
            "icra dairelerince yapılacak olan satışa hazırlık ve satış işlemleri için alınacak ücretlere ilişkin usul ve esasları\n",
            "belirlemektir.\n",
            "Dayanak \n",
            "MADDE 2 \n",
            "(1) Bu Tarife, 9/6/1932 tarihli ve 2004 sayılı İcra ve İflâs Kanununun 106 ncı maddesinin yedinci fıkrasına\n",
            "dayanılarak hazırlanmıştır.\n",
            "Satış giderinin avans olarak ödenmesi \n",
            "MADDE 3 \n",
            "(1) Satış talep edilmesi halinde ücret tablosunda yer alan satışı istenen mahcuz mala ait satış giderlerinin\n",
            "peşin olarak yatırılması zorunludur.\n",
            "(2) Satış işlemleri sırasında bu Tarifede belirtilen ve peşin olarak yatırılan miktarın yetersiz kaldığı anlaşılırsa\n",
            "icra müdürü tarafından miktarın tamamlanması için satış isteyene on beş günlük süre verilir.\n",
            "Taşınmaz mallara ilişkin satış gideri \n",
            "MADDE 4 \n",
            "(1) Taşınmaz malların satışının talep edilmesi halinde satış giderleri tablosunda yer alan buna ilişkin ücret\n",
            "esas alınır.\n",
            "(2) Taşınmaz mallara ilişkin satış gideri, kıymet takdiri ve satış giderleri esas alınarak belirlenmiştir.\n",
            "Sayfa 1/3\n",
            "\u001b[0m\u001b[1;3;38;5;200mRetrieving text node: (3) İcra dosyasından birden fazla taşınmazın birlikte satışının talep edilmesi halinde, bir taşınmaz için satış\n",
            "ücreti tam olarak alınır. Diğer taşınmazlar için ise ücret tablosunda belirtilen satış giderinin toplamından belirli\n",
            "miktarda indirim yapılmak suretiyle avans olarak depo edilmesine icra müdürü tarafından karar verilebilir. Bu\n",
            "indirim tabloda belirtilen gider avansının yarısından fazla olamaz.\n",
            "Sicile kayıtlı motorlu kara araçlarına ilişkin satış gideri \n",
            "MADDE 5 \n",
            "(1) Sicile kayıtlı motorlu kara araçlarının satışının talep edilmesi halinde satış giderleri tablosunda yer alan\n",
            "buna ilişkin ücret esas alınır.\n",
            "(2) Sicile kayıtlı motorlu kara araçlarına ilişkin satış gideri; aracın muhafazası, kıymet takdiri ve satış giderleri\n",
            "esas alınarak belirlenmiştir.\n",
            "Taşınır mallara ilişkin satış gideri \n",
            "MADDE 6 \n",
            "(1) Taşınır malların satışının talep edilmesi halinde satış giderleri tablosunda yer alan buna ilişkin ücret esas\n",
            "alınır.\n",
            "(2) Taşınır mallara ilişkin satış gideri, kıymet takdiri ve satış giderleri esas alınarak belirlenmiştir.\n",
            "Diğer mallara ilişkin satış gideri \n",
            "MADDE 7 \n",
            "(1) Bu Tarifede satış gideri belirtilmeyen malların satışının talep edilmesi halinde, niteliğine uygun düştüğü\n",
            "ölçüde satış gideri tablosunda yer alan ücretler esas alınır.\n",
            "Satış giderleri \n",
            "MADDE 8 \n",
            "(1) Bu Tarifeye göre yatırılması gereken satış giderleri aşağıda gösterilmiştir:\n",
            "Tasinmaz Mallar Için\n",
            "25.000,00\n",
            "TL\n",
            "Sicile\n",
            "Kayitli\n",
            "Motorlu Kara\n",
            "Araçlari Için\n",
            "Otomobil ve\n",
            "Diger Yük\n",
            "Vasitalari\n",
            "15.000,00\n",
            "TL\n",
            "Kamyonet,\n",
            "Minibüs,\n",
            "Midibüs,\n",
            "Arazi Tasiti\n",
            "16.000,00\n",
            "TL\n",
            "Kamyon,\n",
            "Otobüs,\n",
            "Çekici (Tir)\n",
            "18.500,00\n",
            "TL\n",
            "Is\n",
            "Makineleri,\n",
            "Römork,\n",
            "Çekici+Römork\n",
            "20.500,00\n",
            "TL\n",
            "Tasinir Mallar Için\n",
            "2.000,00 TL\n",
            "Uygulanacak tarife \n",
            "MADDE 9 \n",
            "(1) Satış giderinin belirlenmesinde, satış talebinin yapıldığı tarihte yürürlükte bulunan tarife esas alınır. Bu\n",
            "Tarifenin 3 üncü maddesinin ikinci fıkrası hükmü saklıdır.\n",
            "Satış Giderleri Tarifesi\n",
            "Sayfa 2/3\n",
            "\n",
            "\n",
            "Yürürlük \n",
            "MADDE 10 \n",
            "(1) Bu Tarife 1/1/2024 tarihinde yürürlüğe girer.\n",
            "Yürütme \n",
            "MADDE 11 \n",
            "(1) Bu Tarife hükümlerini Adalet Bakanı yürütür.\n",
            "Sayfa 3/3\n",
            "\u001b[0m"
          ]
        },
        {
          "output_type": "stream",
          "name": "stderr",
          "text": [
            "\n"
          ]
        }
      ]
    },
    {
      "cell_type": "code",
      "source": [
        "base_retriever = base_index.as_retriever(similarity_top_k=10)\n",
        "retriever_evaluator = RetrieverEvaluator.from_metric_names(\n",
        "    [\"mrr\", \"hit_rate\"], retriever=base_retriever\n",
        ")\n",
        "# try it out on an entire dataset\n",
        "results_base = await retriever_evaluator.aevaluate_dataset(\n",
        "    eval_dataset, show_progress=True\n",
        ")"
      ],
      "metadata": {
        "colab": {
          "base_uri": "https://localhost:8080/"
        },
        "id": "NhW1chePf2vO",
        "outputId": "31127f35-b91e-45ec-9c35-abdc3b507428"
      },
      "execution_count": 48,
      "outputs": [
        {
          "output_type": "stream",
          "name": "stderr",
          "text": [
            "100%|██████████| 4/4 [00:00<00:00, 11.16it/s]\n"
          ]
        }
      ]
    },
    {
      "cell_type": "code",
      "source": [
        "full_results_df = get_retrieval_results_df(\n",
        "    [\n",
        "        \"Base Retriever\",\n",
        "        \"Retriever (Chunk References)\",\n",
        "        \"Retriever (Metadata References)\",\n",
        "    ],\n",
        "    [results_base, results_chunk, results_metadata],\n",
        ")\n",
        "display(full_results_df)"
      ],
      "metadata": {
        "colab": {
          "base_uri": "https://localhost:8080/",
          "height": 143
        },
        "id": "7Sw5v_AYf4fJ",
        "outputId": "26980d65-fb17-439b-e9d1-55716d171986"
      },
      "execution_count": 49,
      "outputs": [
        {
          "output_type": "display_data",
          "data": {
            "text/plain": [
              "                        retrievers  hit_rate    mrr\n",
              "0                   Base Retriever       1.0  0.750\n",
              "1     Retriever (Chunk References)       1.0  0.625\n",
              "2  Retriever (Metadata References)       1.0  1.000"
            ],
            "text/html": [
              "\n",
              "  <div id=\"df-9a3eec94-f1e7-4e42-b294-1538a186e94e\" class=\"colab-df-container\">\n",
              "    <div>\n",
              "<style scoped>\n",
              "    .dataframe tbody tr th:only-of-type {\n",
              "        vertical-align: middle;\n",
              "    }\n",
              "\n",
              "    .dataframe tbody tr th {\n",
              "        vertical-align: top;\n",
              "    }\n",
              "\n",
              "    .dataframe thead th {\n",
              "        text-align: right;\n",
              "    }\n",
              "</style>\n",
              "<table border=\"1\" class=\"dataframe\">\n",
              "  <thead>\n",
              "    <tr style=\"text-align: right;\">\n",
              "      <th></th>\n",
              "      <th>retrievers</th>\n",
              "      <th>hit_rate</th>\n",
              "      <th>mrr</th>\n",
              "    </tr>\n",
              "  </thead>\n",
              "  <tbody>\n",
              "    <tr>\n",
              "      <th>0</th>\n",
              "      <td>Base Retriever</td>\n",
              "      <td>1.0</td>\n",
              "      <td>0.750</td>\n",
              "    </tr>\n",
              "    <tr>\n",
              "      <th>1</th>\n",
              "      <td>Retriever (Chunk References)</td>\n",
              "      <td>1.0</td>\n",
              "      <td>0.625</td>\n",
              "    </tr>\n",
              "    <tr>\n",
              "      <th>2</th>\n",
              "      <td>Retriever (Metadata References)</td>\n",
              "      <td>1.0</td>\n",
              "      <td>1.000</td>\n",
              "    </tr>\n",
              "  </tbody>\n",
              "</table>\n",
              "</div>\n",
              "    <div class=\"colab-df-buttons\">\n",
              "\n",
              "  <div class=\"colab-df-container\">\n",
              "    <button class=\"colab-df-convert\" onclick=\"convertToInteractive('df-9a3eec94-f1e7-4e42-b294-1538a186e94e')\"\n",
              "            title=\"Convert this dataframe to an interactive table.\"\n",
              "            style=\"display:none;\">\n",
              "\n",
              "  <svg xmlns=\"http://www.w3.org/2000/svg\" height=\"24px\" viewBox=\"0 -960 960 960\">\n",
              "    <path d=\"M120-120v-720h720v720H120Zm60-500h600v-160H180v160Zm220 220h160v-160H400v160Zm0 220h160v-160H400v160ZM180-400h160v-160H180v160Zm440 0h160v-160H620v160ZM180-180h160v-160H180v160Zm440 0h160v-160H620v160Z\"/>\n",
              "  </svg>\n",
              "    </button>\n",
              "\n",
              "  <style>\n",
              "    .colab-df-container {\n",
              "      display:flex;\n",
              "      gap: 12px;\n",
              "    }\n",
              "\n",
              "    .colab-df-convert {\n",
              "      background-color: #E8F0FE;\n",
              "      border: none;\n",
              "      border-radius: 50%;\n",
              "      cursor: pointer;\n",
              "      display: none;\n",
              "      fill: #1967D2;\n",
              "      height: 32px;\n",
              "      padding: 0 0 0 0;\n",
              "      width: 32px;\n",
              "    }\n",
              "\n",
              "    .colab-df-convert:hover {\n",
              "      background-color: #E2EBFA;\n",
              "      box-shadow: 0px 1px 2px rgba(60, 64, 67, 0.3), 0px 1px 3px 1px rgba(60, 64, 67, 0.15);\n",
              "      fill: #174EA6;\n",
              "    }\n",
              "\n",
              "    .colab-df-buttons div {\n",
              "      margin-bottom: 4px;\n",
              "    }\n",
              "\n",
              "    [theme=dark] .colab-df-convert {\n",
              "      background-color: #3B4455;\n",
              "      fill: #D2E3FC;\n",
              "    }\n",
              "\n",
              "    [theme=dark] .colab-df-convert:hover {\n",
              "      background-color: #434B5C;\n",
              "      box-shadow: 0px 1px 3px 1px rgba(0, 0, 0, 0.15);\n",
              "      filter: drop-shadow(0px 1px 2px rgba(0, 0, 0, 0.3));\n",
              "      fill: #FFFFFF;\n",
              "    }\n",
              "  </style>\n",
              "\n",
              "    <script>\n",
              "      const buttonEl =\n",
              "        document.querySelector('#df-9a3eec94-f1e7-4e42-b294-1538a186e94e button.colab-df-convert');\n",
              "      buttonEl.style.display =\n",
              "        google.colab.kernel.accessAllowed ? 'block' : 'none';\n",
              "\n",
              "      async function convertToInteractive(key) {\n",
              "        const element = document.querySelector('#df-9a3eec94-f1e7-4e42-b294-1538a186e94e');\n",
              "        const dataTable =\n",
              "          await google.colab.kernel.invokeFunction('convertToInteractive',\n",
              "                                                    [key], {});\n",
              "        if (!dataTable) return;\n",
              "\n",
              "        const docLinkHtml = 'Like what you see? Visit the ' +\n",
              "          '<a target=\"_blank\" href=https://colab.research.google.com/notebooks/data_table.ipynb>data table notebook</a>'\n",
              "          + ' to learn more about interactive tables.';\n",
              "        element.innerHTML = '';\n",
              "        dataTable['output_type'] = 'display_data';\n",
              "        await google.colab.output.renderOutput(dataTable, element);\n",
              "        const docLink = document.createElement('div');\n",
              "        docLink.innerHTML = docLinkHtml;\n",
              "        element.appendChild(docLink);\n",
              "      }\n",
              "    </script>\n",
              "  </div>\n",
              "\n",
              "\n",
              "<div id=\"df-dc892b96-eb6e-449a-aeaf-7617f4d3650e\">\n",
              "  <button class=\"colab-df-quickchart\" onclick=\"quickchart('df-dc892b96-eb6e-449a-aeaf-7617f4d3650e')\"\n",
              "            title=\"Suggest charts\"\n",
              "            style=\"display:none;\">\n",
              "\n",
              "<svg xmlns=\"http://www.w3.org/2000/svg\" height=\"24px\"viewBox=\"0 0 24 24\"\n",
              "     width=\"24px\">\n",
              "    <g>\n",
              "        <path d=\"M19 3H5c-1.1 0-2 .9-2 2v14c0 1.1.9 2 2 2h14c1.1 0 2-.9 2-2V5c0-1.1-.9-2-2-2zM9 17H7v-7h2v7zm4 0h-2V7h2v10zm4 0h-2v-4h2v4z\"/>\n",
              "    </g>\n",
              "</svg>\n",
              "  </button>\n",
              "\n",
              "<style>\n",
              "  .colab-df-quickchart {\n",
              "      --bg-color: #E8F0FE;\n",
              "      --fill-color: #1967D2;\n",
              "      --hover-bg-color: #E2EBFA;\n",
              "      --hover-fill-color: #174EA6;\n",
              "      --disabled-fill-color: #AAA;\n",
              "      --disabled-bg-color: #DDD;\n",
              "  }\n",
              "\n",
              "  [theme=dark] .colab-df-quickchart {\n",
              "      --bg-color: #3B4455;\n",
              "      --fill-color: #D2E3FC;\n",
              "      --hover-bg-color: #434B5C;\n",
              "      --hover-fill-color: #FFFFFF;\n",
              "      --disabled-bg-color: #3B4455;\n",
              "      --disabled-fill-color: #666;\n",
              "  }\n",
              "\n",
              "  .colab-df-quickchart {\n",
              "    background-color: var(--bg-color);\n",
              "    border: none;\n",
              "    border-radius: 50%;\n",
              "    cursor: pointer;\n",
              "    display: none;\n",
              "    fill: var(--fill-color);\n",
              "    height: 32px;\n",
              "    padding: 0;\n",
              "    width: 32px;\n",
              "  }\n",
              "\n",
              "  .colab-df-quickchart:hover {\n",
              "    background-color: var(--hover-bg-color);\n",
              "    box-shadow: 0 1px 2px rgba(60, 64, 67, 0.3), 0 1px 3px 1px rgba(60, 64, 67, 0.15);\n",
              "    fill: var(--button-hover-fill-color);\n",
              "  }\n",
              "\n",
              "  .colab-df-quickchart-complete:disabled,\n",
              "  .colab-df-quickchart-complete:disabled:hover {\n",
              "    background-color: var(--disabled-bg-color);\n",
              "    fill: var(--disabled-fill-color);\n",
              "    box-shadow: none;\n",
              "  }\n",
              "\n",
              "  .colab-df-spinner {\n",
              "    border: 2px solid var(--fill-color);\n",
              "    border-color: transparent;\n",
              "    border-bottom-color: var(--fill-color);\n",
              "    animation:\n",
              "      spin 1s steps(1) infinite;\n",
              "  }\n",
              "\n",
              "  @keyframes spin {\n",
              "    0% {\n",
              "      border-color: transparent;\n",
              "      border-bottom-color: var(--fill-color);\n",
              "      border-left-color: var(--fill-color);\n",
              "    }\n",
              "    20% {\n",
              "      border-color: transparent;\n",
              "      border-left-color: var(--fill-color);\n",
              "      border-top-color: var(--fill-color);\n",
              "    }\n",
              "    30% {\n",
              "      border-color: transparent;\n",
              "      border-left-color: var(--fill-color);\n",
              "      border-top-color: var(--fill-color);\n",
              "      border-right-color: var(--fill-color);\n",
              "    }\n",
              "    40% {\n",
              "      border-color: transparent;\n",
              "      border-right-color: var(--fill-color);\n",
              "      border-top-color: var(--fill-color);\n",
              "    }\n",
              "    60% {\n",
              "      border-color: transparent;\n",
              "      border-right-color: var(--fill-color);\n",
              "    }\n",
              "    80% {\n",
              "      border-color: transparent;\n",
              "      border-right-color: var(--fill-color);\n",
              "      border-bottom-color: var(--fill-color);\n",
              "    }\n",
              "    90% {\n",
              "      border-color: transparent;\n",
              "      border-bottom-color: var(--fill-color);\n",
              "    }\n",
              "  }\n",
              "</style>\n",
              "\n",
              "  <script>\n",
              "    async function quickchart(key) {\n",
              "      const quickchartButtonEl =\n",
              "        document.querySelector('#' + key + ' button');\n",
              "      quickchartButtonEl.disabled = true;  // To prevent multiple clicks.\n",
              "      quickchartButtonEl.classList.add('colab-df-spinner');\n",
              "      try {\n",
              "        const charts = await google.colab.kernel.invokeFunction(\n",
              "            'suggestCharts', [key], {});\n",
              "      } catch (error) {\n",
              "        console.error('Error during call to suggestCharts:', error);\n",
              "      }\n",
              "      quickchartButtonEl.classList.remove('colab-df-spinner');\n",
              "      quickchartButtonEl.classList.add('colab-df-quickchart-complete');\n",
              "    }\n",
              "    (() => {\n",
              "      let quickchartButtonEl =\n",
              "        document.querySelector('#df-dc892b96-eb6e-449a-aeaf-7617f4d3650e button');\n",
              "      quickchartButtonEl.style.display =\n",
              "        google.colab.kernel.accessAllowed ? 'block' : 'none';\n",
              "    })();\n",
              "  </script>\n",
              "</div>\n",
              "\n",
              "  <div id=\"id_fc807782-3f6c-4810-8994-c3244baca04d\">\n",
              "    <style>\n",
              "      .colab-df-generate {\n",
              "        background-color: #E8F0FE;\n",
              "        border: none;\n",
              "        border-radius: 50%;\n",
              "        cursor: pointer;\n",
              "        display: none;\n",
              "        fill: #1967D2;\n",
              "        height: 32px;\n",
              "        padding: 0 0 0 0;\n",
              "        width: 32px;\n",
              "      }\n",
              "\n",
              "      .colab-df-generate:hover {\n",
              "        background-color: #E2EBFA;\n",
              "        box-shadow: 0px 1px 2px rgba(60, 64, 67, 0.3), 0px 1px 3px 1px rgba(60, 64, 67, 0.15);\n",
              "        fill: #174EA6;\n",
              "      }\n",
              "\n",
              "      [theme=dark] .colab-df-generate {\n",
              "        background-color: #3B4455;\n",
              "        fill: #D2E3FC;\n",
              "      }\n",
              "\n",
              "      [theme=dark] .colab-df-generate:hover {\n",
              "        background-color: #434B5C;\n",
              "        box-shadow: 0px 1px 3px 1px rgba(0, 0, 0, 0.15);\n",
              "        filter: drop-shadow(0px 1px 2px rgba(0, 0, 0, 0.3));\n",
              "        fill: #FFFFFF;\n",
              "      }\n",
              "    </style>\n",
              "    <button class=\"colab-df-generate\" onclick=\"generateWithVariable('full_results_df')\"\n",
              "            title=\"Generate code using this dataframe.\"\n",
              "            style=\"display:none;\">\n",
              "\n",
              "  <svg xmlns=\"http://www.w3.org/2000/svg\" height=\"24px\"viewBox=\"0 0 24 24\"\n",
              "       width=\"24px\">\n",
              "    <path d=\"M7,19H8.4L18.45,9,17,7.55,7,17.6ZM5,21V16.75L18.45,3.32a2,2,0,0,1,2.83,0l1.4,1.43a1.91,1.91,0,0,1,.58,1.4,1.91,1.91,0,0,1-.58,1.4L9.25,21ZM18.45,9,17,7.55Zm-12,3A5.31,5.31,0,0,0,4.9,8.1,5.31,5.31,0,0,0,1,6.5,5.31,5.31,0,0,0,4.9,4.9,5.31,5.31,0,0,0,6.5,1,5.31,5.31,0,0,0,8.1,4.9,5.31,5.31,0,0,0,12,6.5,5.46,5.46,0,0,0,6.5,12Z\"/>\n",
              "  </svg>\n",
              "    </button>\n",
              "    <script>\n",
              "      (() => {\n",
              "      const buttonEl =\n",
              "        document.querySelector('#id_fc807782-3f6c-4810-8994-c3244baca04d button.colab-df-generate');\n",
              "      buttonEl.style.display =\n",
              "        google.colab.kernel.accessAllowed ? 'block' : 'none';\n",
              "\n",
              "      buttonEl.onclick = () => {\n",
              "        google.colab.notebook.generateWithVariable('full_results_df');\n",
              "      }\n",
              "      })();\n",
              "    </script>\n",
              "  </div>\n",
              "\n",
              "    </div>\n",
              "  </div>\n"
            ]
          },
          "metadata": {}
        }
      ]
    }
  ]
}