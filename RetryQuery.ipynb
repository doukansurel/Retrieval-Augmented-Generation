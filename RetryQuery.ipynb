{
  "nbformat": 4,
  "nbformat_minor": 0,
  "metadata": {
    "colab": {
      "provenance": [],
      "authorship_tag": "ABX9TyOBT677lySO09Ju73qE0xcV",
      "include_colab_link": true
    },
    "kernelspec": {
      "name": "python3",
      "display_name": "Python 3"
    },
    "language_info": {
      "name": "python"
    }
  },
  "cells": [
    {
      "cell_type": "markdown",
      "metadata": {
        "id": "view-in-github",
        "colab_type": "text"
      },
      "source": [
        "<a href=\"https://colab.research.google.com/github/doukansurel/Retrieval-Augmented-Generation/blob/main/RetryQuery.ipynb\" target=\"_parent\"><img src=\"https://colab.research.google.com/assets/colab-badge.svg\" alt=\"Open In Colab\"/></a>"
      ]
    },
    {
      "cell_type": "markdown",
      "source": [
        "# Gerekli Kütüphanelerin Kurulumu ve Aktarılması"
      ],
      "metadata": {
        "id": "jl2OTSdm8hMZ"
      }
    },
    {
      "cell_type": "code",
      "execution_count": 13,
      "metadata": {
        "colab": {
          "base_uri": "https://localhost:8080/"
        },
        "id": "_ZiR3qmU8XGE",
        "outputId": "433de82b-654a-4329-9a8d-8ab80c16bb12"
      },
      "outputs": [
        {
          "output_type": "stream",
          "name": "stdout",
          "text": [
            "\u001b[31mERROR: Operation cancelled by user\u001b[0m\u001b[31m\n",
            "\u001b[0m"
          ]
        }
      ],
      "source": [
        "!pip install llama-index pypdf"
      ]
    },
    {
      "cell_type": "code",
      "source": [
        "from google.colab import drive\n",
        "drive.mount(\"/content/drive\")"
      ],
      "metadata": {
        "colab": {
          "base_uri": "https://localhost:8080/"
        },
        "id": "9wbmGiHE8ZbM",
        "outputId": "6d27b6ba-f2c9-4c7c-f118-961ff84db63a"
      },
      "execution_count": 14,
      "outputs": [
        {
          "output_type": "stream",
          "name": "stdout",
          "text": [
            "Drive already mounted at /content/drive; to attempt to forcibly remount, call drive.mount(\"/content/drive\", force_remount=True).\n"
          ]
        }
      ]
    },
    {
      "cell_type": "code",
      "source": [
        "from llama_index.indices.vector_store.base import VectorStoreIndex\n",
        "from llama_index.readers.file.base import SimpleDirectoryReader\n",
        "\n",
        "# Needed for running async functions in Jupyter Notebook\n",
        "import nest_asyncio\n",
        "\n",
        "nest_asyncio.apply()"
      ],
      "metadata": {
        "id": "OMByJ0pH8ajh"
      },
      "execution_count": 15,
      "outputs": []
    },
    {
      "cell_type": "code",
      "source": [
        "import os\n",
        "\n",
        "os.environ[\"OPENAI_API_KEY\"] =\"sk-OPENAI_API_KEY\""
      ],
      "metadata": {
        "id": "WbpS71t38bWp"
      },
      "execution_count": 16,
      "outputs": []
    },
    {
      "cell_type": "markdown",
      "source": [
        "#Belgelerin Yüklenmesi"
      ],
      "metadata": {
        "id": "auCqLQ0e8x39"
      }
    },
    {
      "cell_type": "code",
      "source": [
        "documents = SimpleDirectoryReader(input_files=[\"/content/drive/MyDrive/RAG/Belgeler/satis-giderleri-tarifesi-4-1.pdf\"]).load_data()\n",
        "index = VectorStoreIndex.from_documents(documents)\n",
        "query = \"Sicile kayıtlı motorlu kara araçlarına ilişkin satış giderleri ile taşınmaz mallara, taşınır mallara ve diğer mallara ilişkin satış giderleri arasındaki farklılıkları açıklar mısınız?\""
      ],
      "metadata": {
        "id": "C1F4S_0W8mgT"
      },
      "execution_count": 17,
      "outputs": []
    },
    {
      "cell_type": "code",
      "source": [
        "base_query_engine = index.as_query_engine()\n",
        "response = base_query_engine.query(query)\n",
        "print(response)"
      ],
      "metadata": {
        "colab": {
          "base_uri": "https://localhost:8080/"
        },
        "id": "H7eetC2P89-v",
        "outputId": "bc38ccb0-bb7a-46bd-f468-4759db4e82e3"
      },
      "execution_count": 18,
      "outputs": [
        {
          "output_type": "stream",
          "name": "stdout",
          "text": [
            "Sicile kayıtlı motorlu kara araçlarına ilişkin satış giderleri, aracın muhafazası, kıymet takdiri ve satış giderleri esas alınarak belirlenirken, taşınmaz mallara ilişkin satış giderleri, sadece kıymet takdiri ve satış giderleri esas alınarak belirlenir. Taşınır mallara ilişkin satış giderleri ise yine sadece kıymet takdiri ve satış giderleri esas alınarak belirlenir. Diğer mallara ilişkin satış giderleri ise niteliğine uygun düştüğü ölçüde satış gideri tablosunda yer alan ücretler esas alınır.\n"
          ]
        }
      ]
    },
    {
      "cell_type": "markdown",
      "source": [
        "# Yeniden Deneme Sorgu Motoru\n",
        "Temel sorgu motorundan gelen yanıtı iyileştirmek için bir değerlendirici kullanır.\n",
        "\n",
        "Aşağıdakileri yapar:\n",
        "\n",
        "önce temel sorgu motorunu sorgular, ardından\n",
        "Yanıtın geçip geçmediğine karar vermek için değerlendiriciyi kullanın.\n",
        "Yanıt geçerse yanıtı döndürün,\n",
        "Aksi takdirde, orijinal sorguyu değerlendirme sonucuyla (sorgu, yanıt ve geri bildirim) yeni bir sorguya dönüştürün,\n",
        "Maksimum_yeniden denemeye kadar tekrarlayın"
      ],
      "metadata": {
        "id": "fGhLCDhf9ehm"
      }
    },
    {
      "cell_type": "code",
      "source": [
        "from llama_index.query_engine import RetryQueryEngine\n",
        "from llama_index.evaluation import RelevancyEvaluator\n",
        "\n",
        "query_response_evaluator = RelevancyEvaluator()\n",
        "retry_query_engine = RetryQueryEngine(\n",
        "    base_query_engine, query_response_evaluator\n",
        ")\n",
        "retry_response = retry_query_engine.query(query)\n",
        "print(retry_response)"
      ],
      "metadata": {
        "colab": {
          "base_uri": "https://localhost:8080/"
        },
        "id": "xXgQY4Pp9WA7",
        "outputId": "5c8ff098-ea43-4231-d944-e0e69e094779"
      },
      "execution_count": 19,
      "outputs": [
        {
          "output_type": "stream",
          "name": "stdout",
          "text": [
            "Sicile kayıtlı motorlu kara araçlarına ilişkin satış giderleri, aracın muhafazası, kıymet takdiri ve satış giderleri esas alınarak belirlenirken, taşınmaz mallara ilişkin satış giderleri, sadece kıymet takdiri ve satış giderleri esas alınarak belirlenir. Taşınır mallara ilişkin satış giderleri ise yine sadece kıymet takdiri ve satış giderleri esas alınarak belirlenir. Diğer mallara ilişkin satış giderleri ise niteliğine uygun düştüğü ölçüde satış gideri tablosunda yer alan ücretler esas alınır.\n"
          ]
        }
      ]
    },
    {
      "cell_type": "markdown",
      "source": [
        "# Kaynak Sorgu Motorunu Yeniden Deneme\n",
        "Kaynağı Yeniden Deneme, sorgu için mevcut kaynak düğümlerini llm düğüm değerlendirmesine göre filtreleyerek sorgu kaynak düğümlerini değiştirir."
      ],
      "metadata": {
        "id": "gxLhcHcv9m95"
      }
    },
    {
      "cell_type": "code",
      "source": [
        "from llama_index.query_engine import RetrySourceQueryEngine\n",
        "\n",
        "retry_source_query_engine = RetrySourceQueryEngine(\n",
        "    base_query_engine, query_response_evaluator\n",
        ")\n",
        "retry_source_response = retry_source_query_engine.query(query)\n",
        "print(retry_source_response)"
      ],
      "metadata": {
        "colab": {
          "base_uri": "https://localhost:8080/"
        },
        "id": "XBQmNwJh9n6F",
        "outputId": "254b5dab-bfb2-4ef9-f82c-1858c41814c7"
      },
      "execution_count": 20,
      "outputs": [
        {
          "output_type": "stream",
          "name": "stdout",
          "text": [
            "Sicile kayıtlı motorlu kara araçlarına ilişkin satış giderleri, aracın muhafazası, kıymet takdiri ve satış giderleri esas alınarak belirlenirken, taşınmaz mallara ilişkin satış giderleri, kıymet takdiri ve satış giderleri esas alınarak belirlenir. Taşınır mallara ilişkin satış giderleri ise yine kıymet takdiri ve satış giderleri esas alınarak belirlenir. Diğer mallara ilişkin satış giderleri ise niteliğine uygun düştüğü ölçüde satış gideri tablosunda yer alan ücretler esas alınır.\n"
          ]
        }
      ]
    },
    {
      "cell_type": "markdown",
      "source": [
        "# Yönerge Sorgu Motorunu Yeniden Deneme\n",
        "Bu modül, değerlendiricinin davranışını yönlendirmek için yönergeleri kullanmaya çalışır."
      ],
      "metadata": {
        "id": "7zbcbBke9wkx"
      }
    },
    {
      "cell_type": "code",
      "source": [
        "from llama_index.evaluation.guideline import (\n",
        "    GuidelineEvaluator,\n",
        "    DEFAULT_GUIDELINES,\n",
        ")\n",
        "from llama_index.response.schema import Response\n",
        "from llama_index.indices.query.query_transform.feedback_transform import (\n",
        "    FeedbackQueryTransformation,\n",
        ")\n",
        "from llama_index.query_engine.retry_query_engine import (\n",
        "    RetryGuidelineQueryEngine,\n",
        ")\n",
        "\n",
        "# Guideline eval\n",
        "guideline_eval = GuidelineEvaluator(\n",
        "    guidelines=DEFAULT_GUIDELINES\n",
        "    + \"\\nYanıt aşırı uzun olmamalıdır.\\n\"\n",
        "    \"Yanıt mümkün olduğunca özetlemeye çalışmalıdır.\\n\"\n",
        ")  # just for example"
      ],
      "metadata": {
        "id": "dnJ0E1d39xrb"
      },
      "execution_count": 21,
      "outputs": []
    },
    {
      "cell_type": "code",
      "source": [
        "typed_response = (\n",
        "    response if isinstance(response, Response) else response.get_response()\n",
        ")\n",
        "eval = guideline_eval.evaluate_response(query, typed_response)\n",
        "print(f\"Guideline eval evaluation result: {eval.feedback}\")\n",
        "\n",
        "feedback_query_transform = FeedbackQueryTransformation(resynthesize_query=True)\n",
        "transformed_query = feedback_query_transform.run(query, {\"evaluation\": eval})\n",
        "print(f\"Transformed query: {transformed_query.query_str}\")"
      ],
      "metadata": {
        "colab": {
          "base_uri": "https://localhost:8080/"
        },
        "id": "_E53nPKzBEOx",
        "outputId": "b197b90e-23ae-4578-de84-5e71f97531a2"
      },
      "execution_count": 22,
      "outputs": [
        {
          "output_type": "stream",
          "name": "stdout",
          "text": [
            "Guideline eval evaluation result: The response partially answers the query but lacks specific details and statistics. It is also somewhat vague and could be more concise.\n",
            "Transformed query: Here is a previous bad answer.\n",
            "Sicile kayıtlı motorlu kara araçlarına ilişkin satış giderleri, aracın muhafazası, kıymet takdiri ve satış giderleri esas alınarak belirlenirken, taşınmaz mallara ilişkin satış giderleri, sadece kıymet takdiri ve satış giderleri esas alınarak belirlenir. Taşınır mallara ilişkin satış giderleri ise yine sadece kıymet takdiri ve satış giderleri esas alınarak belirlenir. Diğer mallara ilişkin satış giderleri ise niteliğine uygun düştüğü ölçüde satış gideri tablosunda yer alan ücretler esas alınır.\n",
            "Here is some feedback from the evaluator about the response given.\n",
            "The response partially answers the query but lacks specific details and statistics. It is also somewhat vague and could be more concise.\n",
            "Now answer the question.\n",
            "Please return the modified query below.\n"
          ]
        }
      ]
    },
    {
      "cell_type": "code",
      "source": [
        "retry_guideline_query_engine = RetryGuidelineQueryEngine(\n",
        "    base_query_engine, guideline_eval, resynthesize_query=True\n",
        ")\n",
        "retry_guideline_response = retry_guideline_query_engine.query(query)\n",
        "print(retry_guideline_response)"
      ],
      "metadata": {
        "colab": {
          "base_uri": "https://localhost:8080/"
        },
        "id": "3hZhy2GyBHON",
        "outputId": "c5ce581c-27fc-4e5a-e62e-5f6b37e0f652"
      },
      "execution_count": 24,
      "outputs": [
        {
          "output_type": "stream",
          "name": "stdout",
          "text": [
            "The determination of sales expenses for registered motor vehicles is based on the preservation of the vehicle, valuation, and sales expenses. Similarly, for immovable properties, sales expenses are determined based on valuation and sales expenses. Sales expenses for movable properties are also determined based on valuation and sales expenses. For other goods, sales expenses are based on the fees listed in the sales expense table, according to the nature of the goods.\n"
          ]
        }
      ]
    }
  ]
}