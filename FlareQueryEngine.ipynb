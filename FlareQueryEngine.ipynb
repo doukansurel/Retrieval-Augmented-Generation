{
  "nbformat": 4,
  "nbformat_minor": 0,
  "metadata": {
    "colab": {
      "provenance": [],
      "authorship_tag": "ABX9TyNeNBzV/iGveT5lc4srMDaN",
      "include_colab_link": true
    },
    "kernelspec": {
      "name": "python3",
      "display_name": "Python 3"
    },
    "language_info": {
      "name": "python"
    }
  },
  "cells": [
    {
      "cell_type": "markdown",
      "metadata": {
        "id": "view-in-github",
        "colab_type": "text"
      },
      "source": [
        "<a href=\"https://colab.research.google.com/github/doukansurel/Retrieval-Augmented-Generation/blob/main/FlareQueryEngine.ipynb\" target=\"_parent\"><img src=\"https://colab.research.google.com/assets/colab-badge.svg\" alt=\"Open In Colab\"/></a>"
      ]
    },
    {
      "cell_type": "markdown",
      "source": [
        "# Gerekli Kütüphanelerin Kurulumu ve Aktarılması"
      ],
      "metadata": {
        "id": "lJ7cCjjg4nyG"
      }
    },
    {
      "cell_type": "code",
      "execution_count": null,
      "metadata": {
        "id": "3Ly4g0Cn4V0K"
      },
      "outputs": [],
      "source": [
        "!pip install llama-index pypdf"
      ]
    },
    {
      "cell_type": "code",
      "source": [
        "from google.colab import drive\n",
        "drive.mount(\"/content/drive\")"
      ],
      "metadata": {
        "id": "zRzZr4vp4em4"
      },
      "execution_count": null,
      "outputs": []
    },
    {
      "cell_type": "code",
      "source": [
        "import os\n",
        "from llama_index.llms import OpenAI\n",
        "from llama_index.query_engine import FLAREInstructQueryEngine\n",
        "from llama_index import (\n",
        "    VectorStoreIndex,\n",
        "    SimpleDirectoryReader,\n",
        "    StorageContext,\n",
        "    ServiceContext,\n",
        ")"
      ],
      "metadata": {
        "id": "JI3U_ASn4byl"
      },
      "execution_count": 2,
      "outputs": []
    },
    {
      "cell_type": "code",
      "source": [
        "import os\n",
        "\n",
        "os.environ[\"OPENAI_API_KEY\"] = \"OPENAI_API_KEY\""
      ],
      "metadata": {
        "id": "llXwnTt55Kdo"
      },
      "execution_count": 6,
      "outputs": []
    },
    {
      "cell_type": "markdown",
      "source": [
        "#Belgelerin Yüklenmesi"
      ],
      "metadata": {
        "id": "XKwtnaRH47FJ"
      }
    },
    {
      "cell_type": "code",
      "source": [
        "service_context = ServiceContext.from_defaults(\n",
        "    llm=OpenAI(model=\"gpt-4\", temperature=0), chunk_size=512\n",
        ")"
      ],
      "metadata": {
        "id": "Jd7Ie8xa5Gsm"
      },
      "execution_count": 7,
      "outputs": []
    },
    {
      "cell_type": "code",
      "source": [
        "documents = SimpleDirectoryReader(input_files=[\"/content/drive/MyDrive/RAG/Belgeler/satis-giderleri-tarifesi-4-1.pdf\"]).load_data()\n",
        "index = VectorStoreIndex.from_documents(\n",
        "    documents, service_context=service_context\n",
        ")"
      ],
      "metadata": {
        "id": "6KJkqdkV48o4"
      },
      "execution_count": 9,
      "outputs": []
    },
    {
      "cell_type": "markdown",
      "source": [
        "#Sorgu Motorun Oluşturulması"
      ],
      "metadata": {
        "id": "OalHDHg45oJe"
      }
    },
    {
      "cell_type": "code",
      "source": [
        "index_query_engine = index.as_query_engine(similarity_top_k=2)"
      ],
      "metadata": {
        "id": "iXQqyLQ25kBR"
      },
      "execution_count": 10,
      "outputs": []
    },
    {
      "cell_type": "code",
      "source": [
        "flare_query_engine = FLAREInstructQueryEngine(\n",
        "    query_engine=index_query_engine,\n",
        "    service_context=service_context,\n",
        "    max_iterations=7,\n",
        "    verbose=True,\n",
        ")"
      ],
      "metadata": {
        "id": "ESRGp_vm5lKQ"
      },
      "execution_count": 11,
      "outputs": []
    },
    {
      "cell_type": "code",
      "source": [
        "flare_query_engine"
      ],
      "metadata": {
        "colab": {
          "base_uri": "https://localhost:8080/"
        },
        "id": "mrv4yD7x5nJ0",
        "outputId": "ed4a393c-ae61-4673-b955-29e78b8c4a67"
      },
      "execution_count": 12,
      "outputs": [
        {
          "output_type": "execute_result",
          "data": {
            "text/plain": [
              "<llama_index.query_engine.flare.base.FLAREInstructQueryEngine at 0x7f6a50070400>"
            ]
          },
          "metadata": {},
          "execution_count": 12
        }
      ]
    },
    {
      "cell_type": "code",
      "source": [
        "response = flare_query_engine.query(\n",
        "   \"Sicile kayıtlı motorlu kara araçlarına ilişkin satış giderleri ile taşınmaz mallara, taşınır mallara ve diğer mallara ilişkin satış giderleri arasındaki farklılıkları açıklar mısınız?\")"
      ],
      "metadata": {
        "colab": {
          "base_uri": "https://localhost:8080/"
        },
        "id": "PCJbT8Ck5tua",
        "outputId": "7dc0a982-0594-4d94-f793-67275172d41a"
      },
      "execution_count": 13,
      "outputs": [
        {
          "output_type": "stream",
          "name": "stdout",
          "text": [
            "\u001b[1;3;32mQuery: Sicile kayıtlı motorlu kara araçlarına ilişkin satış giderleri ile taşınmaz mallara, taşınır mallara ve diğer mallara ilişkin satış giderleri arasındaki farklılıkları açıklar mısınız?\n",
            "\u001b[0m\u001b[1;3;34mCurrent response: \n",
            "\u001b[0m\u001b[1;3;38;5;200mLookahead response: Sicilya'da kayıtlı motorlu kara araçlarının satış giderleri, genellikle aracın tipi, modeli, yaşına ve genel durumuna bağlıdır. Öte yandan, taşınmaz mallar, taşınır mallar ve diğer malların satış giderleri genellikle malın türüne, büyüklüğüne, konumuna ve diğer özelliklerine bağlıdır. Ancak, bu genellemelerin ötesinde, daha spesifik farklılıklar için [Search(Sicilya'da motorlu kara araçları ve diğer malların satış giderleri arasındaki farklılıklar nelerdir?)]\n",
            "\u001b[0m\u001b[1;3;38;5;200mUpdated lookahead response: Sicilya'da kayıtlı motorlu kara araçlarının satış giderleri, genellikle aracın tipi, modeli, yaşına ve genel durumuna bağlıdır. Öte yandan, taşınmaz mallar, taşınır mallar ve diğer malların satış giderleri genellikle malın türüne, büyüklüğüne, konumuna ve diğer özelliklerine bağlıdır. Ancak, bu genellemelerin ötesinde, daha spesifik farklılıklar için Sicile kayıtlı motorlu kara araçlarının satış gideri, aracın muhafazası, kıymet takdiri ve satış giderleri esas alınarak belirlenir. Bu durum, satışın talep edilmesi halinde satış giderleri tablosunda yer alan ilgili ücret esas alınır. Diğer taraftan, taşınır malların satış gideri de kıymet takdiri ve satış giderleri esas alınarak belirlenir. Satışın talep edilmesi durumunda, satış giderleri tablosunda yer alan ilgili ücret esas alınır. Satış gideri belirtilmeyen malların satışı talep edildiğinde ise, niteliğine uygun düştüğü ölçüde satış gideri tablosunda yer alan ücretler esas alınır.\n",
            "\u001b[0m\u001b[1;3;34mCurrent response:  Sicilya'da kayıtlı motorlu kara araçlarının satış giderleri, genellikle aracın tipi, modeli, yaşına ve genel durumuna bağlıdır. Öte yandan, taşınmaz mallar, taşınır mallar ve diğer malların satış giderleri genellikle malın türüne, büyüklüğüne, konumuna ve diğer özelliklerine bağlıdır. Ancak, bu genellemelerin ötesinde, daha spesifik farklılıklar için Sicile kayıtlı motorlu kara araçlarının satış gideri, aracın muhafazası, kıymet takdiri ve satış giderleri esas alınarak belirlenir. Bu durum, satışın talep edilmesi halinde satış giderleri tablosunda yer alan ilgili ücret esas alınır. Diğer taraftan, taşınır malların satış gideri de kıymet takdiri ve satış giderleri esas alınarak belirlenir. Satışın talep edilmesi durumunda, satış giderleri tablosunda yer alan ilgili ücret esas alınır. Satış gideri belirtilmeyen malların satışı talep edildiğinde ise, niteliğine uygun düştüğü ölçüde satış gideri tablosunda yer alan ücretler esas alınır.\n",
            "\u001b[0m\u001b[1;3;38;5;200mLookahead response: Bu konuda daha fazla ayrıntıya ihtiyaç duyulursa, Sicilya'da motorlu kara araçları ve diğer malların satış giderlerinin belirlenmesinde kullanılan spesifik yöntemler ve faktörler hakkında daha fazla bilgi için [Search(Sicilya'da motorlu kara araçları ve diğer malların satış giderlerinin belirlenmesi)] başvurabilirsiniz.\n",
            "\u001b[0m\u001b[1;3;38;5;200mUpdated lookahead response: Bu konuda daha fazla ayrıntıya ihtiyaç duyulursa, Sicilya'da motorlu kara araçları ve diğer malların satış giderlerinin belirlenmesinde kullanılan spesifik yöntemler ve faktörler hakkında daha fazla bilgi için Sicile kayıtlı motorlu kara araçlarının satış gideri, aracın muhafazası, kıymet takdiri ve satış giderleri esas alınarak belirlenir. Satışın talep edilmesi durumunda, satış giderleri tablosunda yer alan ilgili ücret esas alınır. Diğer malların satış gideri ise, satışın talep edilmesi halinde, malların niteliğine uygun düştüğü ölçüde satış gideri tablosunda yer alan ücretler esas alınır. başvurabilirsiniz.\n",
            "\u001b[0m\u001b[1;3;34mCurrent response: Sicilya'da kayıtlı motorlu kara araçlarının satış giderleri, genellikle aracın tipi, modeli, yaşına ve genel durumuna bağlıdır. Öte yandan, taşınmaz mallar, taşınır mallar ve diğer malların satış giderleri genellikle malın türüne, büyüklüğüne, konumuna ve diğer özelliklerine bağlıdır. Ancak, bu genellemelerin ötesinde, daha spesifik farklılıklar için Sicile kayıtlı motorlu kara araçlarının satış gideri, aracın muhafazası, kıymet takdiri ve satış giderleri esas alınarak belirlenir. Bu durum, satışın talep edilmesi halinde satış giderleri tablosunda yer alan ilgili ücret esas alınır. Diğer taraftan, taşınır malların satış gideri de kıymet takdiri ve satış giderleri esas alınarak belirlenir. Satışın talep edilmesi durumunda, satış giderleri tablosunda yer alan ilgili ücret esas alınır. Satış gideri belirtilmeyen malların satışı talep edildiğinde ise, niteliğine uygun düştüğü ölçüde satış gideri tablosunda yer alan ücretler esas alınır. Bu konuda daha fazla ayrıntıya ihtiyaç duyulursa, Sicilya'da motorlu kara araçları ve diğer malların satış giderlerinin belirlenmesinde kullanılan spesifik yöntemler ve faktörler hakkında daha fazla bilgi için Sicile kayıtlı motorlu kara araçlarının satış gideri, aracın muhafazası, kıymet takdiri ve satış giderleri esas alınarak belirlenir. Satışın talep edilmesi durumunda, satış giderleri tablosunda yer alan ilgili ücret esas alınır. Diğer malların satış gideri ise, satışın talep edilmesi halinde, malların niteliğine uygun düştüğü ölçüde satış gideri tablosunda yer alan ücretler esas alınır. başvurabilirsiniz.\n",
            "\u001b[0m\u001b[1;3;38;5;200mLookahead response: [Search(Sicilya'da motorlu kara araçları ve diğer malların satış giderlerinin belirlenmesinde kullanılan spesifik yöntemler ve faktörler nelerdir?)]\n",
            "\u001b[0m\u001b[1;3;38;5;200mUpdated lookahead response: Motorlu kara araçlarının satış gideri, aracın muhafazası, kıymet takdiri ve satış giderleri esas alınarak belirlenir. Taşınır malların satış gideri ise, kıymet takdiri ve satış giderleri esas alınarak belirlenir. Satış gideri belirtilmeyen malların satışında ise, malların niteliğine uygun düştüğü ölçüde satış gideri tablosunda yer alan ücretler esas alınır. Birden fazla taşınmazın birlikte satışının talep edilmesi durumunda, bir taşınmaz için satış ücreti tam olarak alınır. Diğer taşınmazlar için ise ücret tablosunda belirtilen satış giderinin toplamından belirli miktarda indirim yapılmak suretiyle avans olarak depo edilmesine karar verilebilir. Bu indirim, tabloda belirtilen gider avansının yarısından fazla olamaz.\n",
            "\u001b[0m\u001b[1;3;34mCurrent response: Sicilya'da kayıtlı motorlu kara araçlarının satış giderleri, genellikle aracın tipi, modeli, yaşına ve genel durumuna bağlıdır. Öte yandan, taşınmaz mallar, taşınır mallar ve diğer malların satış giderleri genellikle malın türüne, büyüklüğüne, konumuna ve diğer özelliklerine bağlıdır. Ancak, bu genellemelerin ötesinde, daha spesifik farklılıklar için Sicile kayıtlı motorlu kara araçlarının satış gideri, aracın muhafazası, kıymet takdiri ve satış giderleri esas alınarak belirlenir. Bu durum, satışın talep edilmesi halinde satış giderleri tablosunda yer alan ilgili ücret esas alınır. Diğer taraftan, taşınır malların satış gideri de kıymet takdiri ve satış giderleri esas alınarak belirlenir. Satışın talep edilmesi durumunda, satış giderleri tablosunda yer alan ilgili ücret esas alınır. Satış gideri belirtilmeyen malların satışı talep edildiğinde ise, niteliğine uygun düştüğü ölçüde satış gideri tablosunda yer alan ücretler esas alınır. Bu konuda daha fazla ayrıntıya ihtiyaç duyulursa, Sicilya'da motorlu kara araçları ve diğer malların satış giderlerinin belirlenmesinde kullanılan spesifik yöntemler ve faktörler hakkında daha fazla bilgi için Sicile kayıtlı motorlu kara araçlarının satış gideri, aracın muhafazası, kıymet takdiri ve satış giderleri esas alınarak belirlenir. Satışın talep edilmesi durumunda, satış giderleri tablosunda yer alan ilgili ücret esas alınır. Diğer malların satış gideri ise, satışın talep edilmesi halinde, malların niteliğine uygun düştüğü ölçüde satış gideri tablosunda yer alan ücretler esas alınır. başvurabilirsiniz. Motorlu kara araçlarının satış gideri, aracın muhafazası, kıymet takdiri ve satış giderleri esas alınarak belirlenir. Taşınır malların satış gideri ise, kıymet takdiri ve satış giderleri esas alınarak belirlenir. Satış gideri belirtilmeyen malların satışında ise, malların niteliğine uygun düştüğü ölçüde satış gideri tablosunda yer alan ücretler esas alınır. Birden fazla taşınmazın birlikte satışının talep edilmesi durumunda, bir taşınmaz için satış ücreti tam olarak alınır. Diğer taşınmazlar için ise ücret tablosunda belirtilen satış giderinin toplamından belirli miktarda indirim yapılmak suretiyle avans olarak depo edilmesine karar verilebilir. Bu indirim, tabloda belirtilen gider avansının yarısından fazla olamaz.\n",
            "\u001b[0m\u001b[1;3;38;5;200mLookahead response: done\n",
            "\u001b[0m"
          ]
        }
      ]
    },
    {
      "cell_type": "code",
      "source": [
        "print(response)"
      ],
      "metadata": {
        "colab": {
          "base_uri": "https://localhost:8080/"
        },
        "id": "vRdNvqOp5tpY",
        "outputId": "d5656307-8399-45dc-dc83-e720e3314a77"
      },
      "execution_count": 14,
      "outputs": [
        {
          "output_type": "stream",
          "name": "stdout",
          "text": [
            "Sicilya'da kayıtlı motorlu kara araçlarının satış giderleri, genellikle aracın tipi, modeli, yaşına ve genel durumuna bağlıdır. Öte yandan, taşınmaz mallar, taşınır mallar ve diğer malların satış giderleri genellikle malın türüne, büyüklüğüne, konumuna ve diğer özelliklerine bağlıdır. Ancak, bu genellemelerin ötesinde, daha spesifik farklılıklar için Sicile kayıtlı motorlu kara araçlarının satış gideri, aracın muhafazası, kıymet takdiri ve satış giderleri esas alınarak belirlenir. Bu durum, satışın talep edilmesi halinde satış giderleri tablosunda yer alan ilgili ücret esas alınır. Diğer taraftan, taşınır malların satış gideri de kıymet takdiri ve satış giderleri esas alınarak belirlenir. Satışın talep edilmesi durumunda, satış giderleri tablosunda yer alan ilgili ücret esas alınır. Satış gideri belirtilmeyen malların satışı talep edildiğinde ise, niteliğine uygun düştüğü ölçüde satış gideri tablosunda yer alan ücretler esas alınır. Bu konuda daha fazla ayrıntıya ihtiyaç duyulursa, Sicilya'da motorlu kara araçları ve diğer malların satış giderlerinin belirlenmesinde kullanılan spesifik yöntemler ve faktörler hakkında daha fazla bilgi için Sicile kayıtlı motorlu kara araçlarının satış gideri, aracın muhafazası, kıymet takdiri ve satış giderleri esas alınarak belirlenir. Satışın talep edilmesi durumunda, satış giderleri tablosunda yer alan ilgili ücret esas alınır. Diğer malların satış gideri ise, satışın talep edilmesi halinde, malların niteliğine uygun düştüğü ölçüde satış gideri tablosunda yer alan ücretler esas alınır. başvurabilirsiniz. Motorlu kara araçlarının satış gideri, aracın muhafazası, kıymet takdiri ve satış giderleri esas alınarak belirlenir. Taşınır malların satış gideri ise, kıymet takdiri ve satış giderleri esas alınarak belirlenir. Satış gideri belirtilmeyen malların satışında ise, malların niteliğine uygun düştüğü ölçüde satış gideri tablosunda yer alan ücretler esas alınır. Birden fazla taşınmazın birlikte satışının talep edilmesi durumunda, bir taşınmaz için satış ücreti tam olarak alınır. Diğer taşınmazlar için ise ücret tablosunda belirtilen satış giderinin toplamından belirli miktarda indirim yapılmak suretiyle avans olarak depo edilmesine karar verilebilir. Bu indirim, tabloda belirtilen gider avansının yarısından fazla olamaz. \n"
          ]
        }
      ]
    },
    {
      "cell_type": "code",
      "source": [
        "response = index_query_engine.query(\n",
        "   \"Sicile kayıtlı motorlu kara araçlarına ilişkin satış giderleri ile taşınmaz mallara, taşınır mallara ve diğer mallara ilişkin satış giderleri arasındaki farklılıkları açıklar mısınız?\")\n",
        "print(str(response))"
      ],
      "metadata": {
        "colab": {
          "base_uri": "https://localhost:8080/"
        },
        "id": "zCvTGJj96KcL",
        "outputId": "3a0b8cc1-56ac-45a1-db24-9ea9bba567f8"
      },
      "execution_count": 15,
      "outputs": [
        {
          "output_type": "stream",
          "name": "stdout",
          "text": [
            "Sicile kayıtlı motorlu kara araçlarına ilişkin satış gideri, aracın muhafazası, kıymet takdiri ve satış giderleri esas alınarak belirlenir. Satışın talep edilmesi durumunda, satış giderleri tablosunda yer alan ilgili ücret esas alınır.\n",
            "\n",
            "Taşınır malların satış gideri de benzer şekilde, kıymet takdiri ve satış giderleri esas alınarak belirlenir. Satışın talep edilmesi durumunda, satış giderleri tablosunda yer alan ilgili ücret esas alınır.\n",
            "\n",
            "Diğer malların satış gideri ise, satışın talep edilmesi durumunda, malların niteliğine uygun düştüğü ölçüde satış gideri tablosunda yer alan ücretler esas alınır.\n",
            "\n",
            "Birden fazla taşınmazın birlikte satışının talep edilmesi durumunda, bir taşınmaz için satış ücreti tam olarak alınır. Diğer taşınmazlar için ise ücret tablosunda belirtilen satış giderinin toplamından belirli miktarda indirim yapılmak suretiyle avans olarak depo edilmesine karar verilebilir. Bu indirim, tabloda belirtilen gider avansının yarısından fazla olamaz.\n"
          ]
        }
      ]
    },
    {
      "cell_type": "code",
      "source": [],
      "metadata": {
        "id": "cjRsLg3f6Vk8"
      },
      "execution_count": null,
      "outputs": []
    }
  ]
}