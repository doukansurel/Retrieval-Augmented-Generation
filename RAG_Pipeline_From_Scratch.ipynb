{
  "nbformat": 4,
  "nbformat_minor": 0,
  "metadata": {
    "colab": {
      "provenance": [],
      "gpuType": "T4",
      "authorship_tag": "ABX9TyOlLg7BSHHPmcvlPdNiKnTI",
      "include_colab_link": true
    },
    "kernelspec": {
      "name": "python3",
      "display_name": "Python 3"
    },
    "language_info": {
      "name": "python"
    }
  },
  "cells": [
    {
      "cell_type": "markdown",
      "metadata": {
        "id": "view-in-github",
        "colab_type": "text"
      },
      "source": [
        "<a href=\"https://colab.research.google.com/github/doukansurel/Retrieval-Augmented-Generation/blob/main/RAG_Pipeline_From_Scratch.ipynb\" target=\"_parent\"><img src=\"https://colab.research.google.com/assets/colab-badge.svg\" alt=\"Open In Colab\"/></a>"
      ]
    },
    {
      "cell_type": "code",
      "execution_count": null,
      "metadata": {
        "id": "IiPtQtEOYOVN"
      },
      "outputs": [],
      "source": [
        "!pip install llama-index\n",
        "!pip install rank-bm25 pymupdf\n",
        "!pip install pypdf\n",
        "!pip install openai\n",
        "!pip install llama_hub"
      ]
    },
    {
      "cell_type": "code",
      "source": [
        "import logging\n",
        "import sys\n",
        "import nest_asyncio\n",
        "\n",
        "nest_asyncio.apply()\n",
        "logging.basicConfig(stream=sys.stdout, level=logging.INFO)\n",
        "logging.getLogger().addHandler(logging.StreamHandler(stream=sys.stdout))\n",
        "\n",
        "from llama_index import (\n",
        "    VectorStoreIndex,\n",
        "    SimpleDirectoryReader,\n",
        "    ServiceContext,\n",
        "    LLMPredictor,\n",
        ")\n",
        "import os\n",
        "from llama_index.llms import OpenAI"
      ],
      "metadata": {
        "id": "BppBjpEmYh_U"
      },
      "execution_count": null,
      "outputs": []
    },
    {
      "cell_type": "code",
      "source": [
        "os.environ[\"OPENAI_API_KEY\"] = \"<OPENAI_API_KEY>\"\n",
        "openai.api_key = os.environ[\"OPENAI_API_KEY\"]"
      ],
      "metadata": {
        "id": "Q0N-FPX5AHeP"
      },
      "execution_count": null,
      "outputs": []
    },
    {
      "cell_type": "markdown",
      "source": [
        "# Doküman Yükleme\n"
      ],
      "metadata": {
        "id": "VVBVziJkZUqf"
      }
    },
    {
      "cell_type": "code",
      "source": [
        "from llama_index import SimpleDirectoryReader\n",
        "documents = SimpleDirectoryReader(\"/content/data/\").load_data()"
      ],
      "metadata": {
        "id": "WYwZH-JbYuGQ"
      },
      "execution_count": null,
      "outputs": []
    },
    {
      "cell_type": "markdown",
      "source": [
        "#Vector Index"
      ],
      "metadata": {
        "id": "TdpPmYovZbms"
      }
    },
    {
      "cell_type": "code",
      "source": [
        "from llama_index import VectorStoreIndex, ServiceContext\n",
        "\n",
        "service_context = ServiceContext.from_defaults(chunk_size=1024)\n",
        "index = VectorStoreIndex.from_documents(\n",
        "    documents, service_context=service_context)"
      ],
      "metadata": {
        "id": "J5a6NBepZSP5"
      },
      "execution_count": null,
      "outputs": []
    },
    {
      "cell_type": "code",
      "source": [
        "llm = OpenAI(model=\"gpt-3.5-turbo\")"
      ],
      "metadata": {
        "id": "whVhfuLqZrRv"
      },
      "execution_count": null,
      "outputs": []
    },
    {
      "cell_type": "markdown",
      "source": [
        "#Sorgu Oluşturma"
      ],
      "metadata": {
        "id": "JlyzWUTpZ8nm"
      }
    },
    {
      "cell_type": "code",
      "source": [
        "from llama_index import PromptTemplate"
      ],
      "metadata": {
        "id": "z9g9rKZxZwxN"
      },
      "execution_count": null,
      "outputs": []
    },
    {
      "cell_type": "markdown",
      "source": [],
      "metadata": {
        "id": "NQ8wUdV3zUff"
      }
    },
    {
      "cell_type": "code",
      "source": [
        "query_str = ( \"Kira bedeli nasıl hesaplanır ve kiralanan araç ile kaza yapıldığında kim sorumludur?\")\n"
      ],
      "metadata": {
        "id": "5RzMMJUPD27p"
      },
      "execution_count": null,
      "outputs": []
    },
    {
      "cell_type": "code",
      "source": [
        "query_str = \"Araç kiralama süresi en az ne kadardır ve araç kiralamak için hangi şartları yerine getirmek gerekir?\"\n"
      ],
      "metadata": {
        "id": "26a-YbWxaBFZ"
      },
      "execution_count": null,
      "outputs": []
    },
    {
      "cell_type": "code",
      "source": [
        "query_gen_prompt_str = (\n",
        "    \"Birden fazla arama sorgusunu temel alan, yardımsever bir yardımcısınız\"\n",
        "    \"tek giriş sorgusu. Her satırda bir tane olmak üzere {num_queries} arama sorgusu oluşturun, \"\n",
        "    \"aşağıdaki giriş sorgusuyla ilgili:\\n\"\n",
        "    \"Sorgu: {query}\\n\"\n",
        "    \"Sorgular:\\n\"\n",
        ")\n",
        "query_gen_prompt = PromptTemplate(query_gen_prompt_str)\n"
      ],
      "metadata": {
        "id": "-cuvBp9QaOgq"
      },
      "execution_count": null,
      "outputs": []
    },
    {
      "cell_type": "code",
      "source": [
        "def generate_queries(llm, query_str: str, num_queries: int = 4):\n",
        "    fmt_prompt = query_gen_prompt.format(\n",
        "        num_queries=num_queries - 1, query=query_str\n",
        "    )\n",
        "    response = llm.complete(fmt_prompt)\n",
        "    queries = response.text.split(\"\\n\")\n",
        "    return queries"
      ],
      "metadata": {
        "id": "f2M5CjPKaUg6"
      },
      "execution_count": null,
      "outputs": []
    },
    {
      "cell_type": "code",
      "source": [
        "queries = generate_queries(llm, query_str, num_queries=4)"
      ],
      "metadata": {
        "id": "0FVZcsTJaYLu"
      },
      "execution_count": null,
      "outputs": []
    },
    {
      "cell_type": "code",
      "source": [
        "print(queries)"
      ],
      "metadata": {
        "colab": {
          "base_uri": "https://localhost:8080/"
        },
        "id": "A6N7-Rx-aYqd",
        "outputId": "0ad4d828-d0c2-4177-9492-bcb73541c05a"
      },
      "execution_count": null,
      "outputs": [
        {
          "output_type": "stream",
          "name": "stdout",
          "text": [
            "['1. Kira bedeli nasıl hesaplanır?', '2. Kiralanan araç ile kaza yapıldığında kim sorumludur?', '3. Kaza durumunda kiralanan araç için ne yapılmalıdır?']\n"
          ]
        }
      ]
    },
    {
      "cell_type": "markdown",
      "source": [
        "# Her Sorgu için Vektör Araması Yapma\n",
        "\n",
        "*   Liste öğesi\n",
        "*   Liste öğesi\n",
        "\n"
      ],
      "metadata": {
        "id": "oYxJNXdgbycu"
      }
    },
    {
      "cell_type": "code",
      "source": [
        "from tqdm.asyncio import tqdm\n",
        "\n",
        "\n",
        "async def run_queries(queries, retrievers):\n",
        "    \"\"\"Run queries against retrievers.\"\"\"\n",
        "    tasks = []\n",
        "    for query in queries:\n",
        "        for i, retriever in enumerate(retrievers):\n",
        "            tasks.append(retriever.aretrieve(query))\n",
        "\n",
        "    task_results = await tqdm.gather(*tasks)\n",
        "\n",
        "    results_dict = {}\n",
        "    for i, (query, query_result) in enumerate(zip(queries, task_results)):\n",
        "        results_dict[(query, i)] = query_result\n",
        "\n",
        "    return results_dict"
      ],
      "metadata": {
        "id": "LwQfZScxaiaS"
      },
      "execution_count": null,
      "outputs": []
    },
    {
      "cell_type": "code",
      "source": [
        "# get retrievers\n",
        "from llama_index.retrievers import BM25Retriever\n",
        "\n",
        "\n",
        "## vector retriever\n",
        "vector_retriever = index.as_retriever(similarity_top_k=2)\n",
        "\n",
        "## bm25 retriever\n",
        "bm25_retriever = BM25Retriever.from_defaults(\n",
        "    docstore=index.docstore, similarity_top_k=2\n",
        ")"
      ],
      "metadata": {
        "id": "FYjmEoWrazy5"
      },
      "execution_count": null,
      "outputs": []
    },
    {
      "cell_type": "code",
      "source": [
        "results_dict = await run_queries(queries, [vector_retriever, bm25_retriever])\n"
      ],
      "metadata": {
        "colab": {
          "base_uri": "https://localhost:8080/"
        },
        "id": "O2exrA8Ra3Dd",
        "outputId": "9eec9d0f-5f53-4968-e24c-c2a4f5422c0f"
      },
      "execution_count": null,
      "outputs": [
        {
          "output_type": "stream",
          "name": "stderr",
          "text": [
            "100%|██████████| 6/6 [00:00<00:00, 31.29it/s]\n"
          ]
        }
      ]
    },
    {
      "cell_type": "markdown",
      "source": [
        "#Füzyon Performansı Ayarlama"
      ],
      "metadata": {
        "id": "1J-x5_WmcT3r"
      }
    },
    {
      "cell_type": "code",
      "source": [
        "def fuse_results(results_dict, similarity_top_k: int = 2):\n",
        "    \"\"\"Fuse results.\"\"\"\n",
        "    k = 60.0  # `k` is a parameter used to control the impact of outlier rankings.\n",
        "    fused_scores = {}\n",
        "    text_to_node = {}\n",
        "\n",
        "    # compute reciprocal rank scores\n",
        "    for nodes_with_scores in results_dict.values():\n",
        "        for rank, node_with_score in enumerate(\n",
        "            sorted(\n",
        "                nodes_with_scores, key=lambda x: x.score or 0.0, reverse=True\n",
        "            )\n",
        "        ):\n",
        "            text = node_with_score.node.get_content()\n",
        "            text_to_node[text] = node_with_score\n",
        "            if text not in fused_scores:\n",
        "                fused_scores[text] = 0.0\n",
        "            fused_scores[text] += 1.0 / (rank + k)\n",
        "\n",
        "    # sort results\n",
        "    reranked_results = dict(\n",
        "        sorted(fused_scores.items(), key=lambda x: x[1], reverse=True)\n",
        "    )\n",
        "\n",
        "    # adjust node scores\n",
        "    reranked_nodes: List[NodeWithScore] = []\n",
        "    for text, score in reranked_results.items():\n",
        "        reranked_nodes.append(text_to_node[text])\n",
        "        reranked_nodes[-1].score = score\n",
        "\n",
        "    return reranked_nodes[:similarity_top_k]"
      ],
      "metadata": {
        "id": "jwGHODprbFeE"
      },
      "execution_count": null,
      "outputs": []
    },
    {
      "cell_type": "code",
      "source": [
        "final_results = fuse_results(results_dict)\n"
      ],
      "metadata": {
        "id": "CEsQX453bQry"
      },
      "execution_count": null,
      "outputs": []
    },
    {
      "cell_type": "code",
      "source": [
        "from llama_index.response.notebook_utils import display_source_node\n",
        "\n",
        "for n in final_results:\n",
        "    display_source_node(n, source_length=500)"
      ],
      "metadata": {
        "colab": {
          "base_uri": "https://localhost:8080/",
          "height": 451
        },
        "id": "0UXxRdf6bS6q",
        "outputId": "0066cf22-ebe0-4796-9f17-ba09f49ab581"
      },
      "execution_count": null,
      "outputs": [
        {
          "output_type": "display_data",
          "data": {
            "text/plain": [
              "<IPython.core.display.Markdown object>"
            ],
            "text/markdown": "**Node ID:** 55b69de8-96e4-4847-9346-2e73e36dd898<br>**Similarity:** 0.016666666666666666<br>**Text:** 7/71.  \n2.  \n3.  \n4.  \n5.  \n6.  \n7.  \n8.  istinaden kıdem ve ihbar tazminatı da dahil olmak üzere işçilik hak ve alacakları \nhesaplanarak personelin maaş aldığı banka hesabına yatırılacak ödeme yapılacak ve \npersonelin şirketten herhangi bir hak ve alacağı kalmadığına dair ibraname \ndüzenlenecektir.\n6-İşten ayrılan personele 4857 sayılı İş Kanunu’nun 28.md istinaden işin çeşidi ve \nçalışma süresini gösterir çalışma belgesi düzenlenerek verilir.\nPERSONELİN UYMASI GEREKEN GENEL HUSUSLAR\nMadde 1...<br>"
          },
          "metadata": {}
        },
        {
          "output_type": "display_data",
          "data": {
            "text/plain": [
              "<IPython.core.display.Markdown object>"
            ],
            "text/markdown": "**Node ID:** 6177309a-e1a4-4eda-a390-eded30fec5c8<br>**Similarity:** 0.016666666666666666<br>**Text:** 3) SÖZLEŞMENİN KONUSU :  \nİşbu sözleşmenin konusu, Hasta’ nın her türlü sağlık i le ilgili sorunlarının Hastane ’de ayakta \nve/veya yatarak tüm teşhis ve tedavilerinin sağlanması, bu süreç esnasında yapılacak işlemler ile \nuygulama esaslarının belirlenmesinden ibarettir.   \n \n4) HAK VE YÜKÜMLÜLÜKLER :  \n \n4.1) Hastanenin Hak ve Yükümlülükleri  \n4.1.a)  Hastane , hizmet almak isteyen Hasta’ nın sağlık hizmetler ini eksiksiz olarak yerine \ngetirecektir.  \n4.1.b) Hastane, hizmet talebinde buluna...<br>"
          },
          "metadata": {}
        }
      ]
    },
    {
      "cell_type": "code",
      "source": [
        "from llama_index import QueryBundle\n",
        "from llama_index.retrievers import BaseRetriever\n",
        "from typing import Any, List\n",
        "from llama_index.schema import NodeWithScore\n",
        "\n",
        "\n",
        "class FusionRetriever(BaseRetriever):\n",
        "    \"\"\"Ensemble retriever with fusion.\"\"\"\n",
        "\n",
        "    def __init__(\n",
        "        self,\n",
        "        llm,\n",
        "        retrievers: List[BaseRetriever],\n",
        "        similarity_top_k: int = 2,\n",
        "    ) -> None:\n",
        "        \"\"\"Init params.\"\"\"\n",
        "        self._retrievers = retrievers\n",
        "        self._similarity_top_k = similarity_top_k\n",
        "\n",
        "    def _retrieve(self, query_bundle: QueryBundle) -> List[NodeWithScore]:\n",
        "        \"\"\"Retrieve.\"\"\"\n",
        "        queries = generate_queries(llm, query_str, num_queries=4)\n",
        "        results = run_queries(queries, [vector_retriever, bm25_retriever])\n",
        "        final_results = fuse_results(\n",
        "            results_dict, similarity_top_k=self._similarity_top_k\n",
        "        )\n",
        "\n",
        "        return final_results"
      ],
      "metadata": {
        "id": "5nCpyxMubetU"
      },
      "execution_count": null,
      "outputs": []
    },
    {
      "cell_type": "code",
      "source": [
        "from llama_index.query_engine import RetrieverQueryEngine\n",
        "\n",
        "fusion_retriever = FusionRetriever(\n",
        "    llm, [vector_retriever, bm25_retriever], similarity_top_k=2\n",
        ")\n",
        "\n",
        "query_engine = RetrieverQueryEngine(fusion_retriever)"
      ],
      "metadata": {
        "id": "CC6JFoTvbgXp"
      },
      "execution_count": null,
      "outputs": []
    },
    {
      "cell_type": "code",
      "source": [
        "response = query_engine.query(query_str)\n"
      ],
      "metadata": {
        "colab": {
          "base_uri": "https://localhost:8080/"
        },
        "id": "uTnGLb0GbiPS",
        "outputId": "f0a2737c-0457-4201-c620-f99284d1cf1f"
      },
      "execution_count": null,
      "outputs": [
        {
          "output_type": "stream",
          "name": "stderr",
          "text": [
            "/usr/local/lib/python3.10/dist-packages/llama_index/indices/base_retriever.py:34: RuntimeWarning: coroutine 'run_queries' was never awaited\n",
            "  return self._retrieve(str_or_query_bundle)\n",
            "RuntimeWarning: Enable tracemalloc to get the object allocation traceback\n"
          ]
        }
      ]
    },
    {
      "cell_type": "code",
      "source": [
        "print(str(response))\n"
      ],
      "metadata": {
        "colab": {
          "base_uri": "https://localhost:8080/"
        },
        "id": "6uEtEpMvEGK_",
        "outputId": "151d8f19-b285-4912-90f3-a95d28b384e5"
      },
      "execution_count": null,
      "outputs": [
        {
          "output_type": "stream",
          "name": "stdout",
          "text": [
            "Kira bedeli, araç kiralama sözleşmesinde belirtilen şartlara göre hesaplanır. Bu şartlar genellikle kiralama süresi, aracın marka ve modeli, kilometre sınırları gibi faktörlere dayanır. Kiralanan araç ile kaza yapıldığında, sorumluluk genellikle kiralayan şirkete aittir. Ancak, kiralama sözleşmesinde belirtilen sigorta koşulları ve sorumluluklar da dikkate alınmalıdır. Bu nedenle, kaza durumunda, kiralama sözleşmesinde belirtilen prosedürleri takip etmek ve sigorta şirketiyle iletişime geçmek önemlidir.\n"
          ]
        }
      ]
    },
    {
      "cell_type": "code",
      "source": [
        "print(str(response))\n"
      ],
      "metadata": {
        "colab": {
          "base_uri": "https://localhost:8080/"
        },
        "id": "MewcnmVVDldm",
        "outputId": "095033ad-8ce6-420f-8a22-7187168aa37b"
      },
      "execution_count": null,
      "outputs": [
        {
          "output_type": "stream",
          "name": "stdout",
          "text": [
            "Araç kiralama süresi en az 2 aydır. Araç kiralamak için T.C. vatandaşı olmak veya yabancı ülke vatandaşı olup Türkiye'de oturma ve çalışma izni almasına engel teşkil edecek bir duruma sahip olmamak, işin gerektirdiği eğitim, bilgi, yetenek ve tecrübeye sahip olmak, yüz kızartıcı bir suçtan hüküm giymemiş olmak veya kamu haklarını kısıtlayıcı bir suçla mahkum edilmemiş olmak, askerlik hizmetini yapmış olmak veya askerlikle ilişiği bulunmamak, işin gerektirdiği sağlık durumuna sahip olmak ve İŞVEREN tarafından istenilen belgeleri temin etmek gerekmektedir.\n"
          ]
        }
      ]
    }
  ]
}