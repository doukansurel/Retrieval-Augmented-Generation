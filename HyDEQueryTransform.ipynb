{
  "nbformat": 4,
  "nbformat_minor": 0,
  "metadata": {
    "colab": {
      "provenance": [],
      "authorship_tag": "ABX9TyOjeJCsJENBlF/mFf9+FLUQ",
      "include_colab_link": true
    },
    "kernelspec": {
      "name": "python3",
      "display_name": "Python 3"
    },
    "language_info": {
      "name": "python"
    }
  },
  "cells": [
    {
      "cell_type": "markdown",
      "metadata": {
        "id": "view-in-github",
        "colab_type": "text"
      },
      "source": [
        "<a href=\"https://colab.research.google.com/github/doukansurel/Retrieval-Augmented-Generation/blob/main/HyDEQueryTransform.ipynb\" target=\"_parent\"><img src=\"https://colab.research.google.com/assets/colab-badge.svg\" alt=\"Open In Colab\"/></a>"
      ]
    },
    {
      "cell_type": "code",
      "execution_count": 1,
      "metadata": {
        "colab": {
          "base_uri": "https://localhost:8080/"
        },
        "id": "qe0AWZNXxO3W",
        "outputId": "f95cb2af-19e6-481c-f5c3-554c55f22c63"
      },
      "outputs": [
        {
          "output_type": "stream",
          "name": "stdout",
          "text": [
            "\u001b[31mERROR: pip's dependency resolver does not currently take into account all the packages that are installed. This behaviour is the source of the following dependency conflicts.\n",
            "llmx 0.0.15a0 requires cohere, which is not installed.\n",
            "tensorflow-probability 0.22.0 requires typing-extensions<4.6.0, but you have typing-extensions 4.9.0 which is incompatible.\u001b[0m\u001b[31m\n",
            "\u001b[0mSuccessfully installed beautifulsoup4-4.12.2 dataclasses-json-0.6.3 deprecated-1.2.14 h11-0.14.0 httpcore-1.0.2 httpx-0.26.0 llama-index-0.9.26 marshmallow-3.20.1 mypy-extensions-1.0.0 openai-1.6.1 pypdf-3.17.4 tiktoken-0.5.2 typing-extensions-4.9.0 typing-inspect-0.9.0\n"
          ]
        }
      ],
      "source": [
        "!pip install llama-index pypdf"
      ]
    },
    {
      "cell_type": "code",
      "source": [
        "import os\n",
        "os.environ[\"OPENAI_API_KEY\"] = \"OPENAI_API_KEY\""
      ],
      "metadata": {
        "id": "d_03wJQBxVED"
      },
      "execution_count": 2,
      "outputs": []
    },
    {
      "cell_type": "markdown",
      "source": [
        "#Drive Bağlanma"
      ],
      "metadata": {
        "id": "y8yAMWU1x6cm"
      }
    },
    {
      "cell_type": "code",
      "source": [
        "from google.colab import drive\n",
        "drive.mount(\"/content/drive\")"
      ],
      "metadata": {
        "id": "1jA_hJmHx8Uh"
      },
      "execution_count": null,
      "outputs": []
    },
    {
      "cell_type": "markdown",
      "source": [
        "#Kurulum"
      ],
      "metadata": {
        "id": "vL53YpO6yFSc"
      }
    },
    {
      "cell_type": "code",
      "source": [
        "import logging\n",
        "import sys\n",
        "\n",
        "logging.basicConfig(stream=sys.stdout, level=logging.INFO)\n",
        "logging.getLogger().addHandler(logging.StreamHandler(stream=sys.stdout))\n",
        "\n",
        "from llama_index import VectorStoreIndex, SimpleDirectoryReader\n",
        "from llama_index.indices.query.query_transform import HyDEQueryTransform\n",
        "from llama_index.query_engine.transform_query_engine import (\n",
        "    TransformQueryEngine,\n",
        ")\n",
        "from IPython.display import Markdown, display"
      ],
      "metadata": {
        "id": "iwA9GETwxeSF"
      },
      "execution_count": 3,
      "outputs": []
    },
    {
      "cell_type": "markdown",
      "source": [
        "#Belge Yükleme"
      ],
      "metadata": {
        "id": "m637F0uvyb6D"
      }
    },
    {
      "cell_type": "code",
      "source": [
        "documents = SimpleDirectoryReader(input_files=[\"/content/drive/MyDrive/RAG/Belgeler/satis-giderleri-tarifesi-4-1.pdf\"]).load_data()"
      ],
      "metadata": {
        "id": "r5EyfTibx5Zr"
      },
      "execution_count": 5,
      "outputs": []
    },
    {
      "cell_type": "markdown",
      "source": [
        "#İndeksleme"
      ],
      "metadata": {
        "id": "_9nfeYXbyeQH"
      }
    },
    {
      "cell_type": "code",
      "source": [
        "index = VectorStoreIndex.from_documents(documents)"
      ],
      "metadata": {
        "id": "RzUGWc-vyZK3"
      },
      "execution_count": 6,
      "outputs": []
    },
    {
      "cell_type": "code",
      "source": [
        "query_str = \"Sicile kayıtlı motorlu kara araçlarına ilişkin satış gideri ile taşınır mallara ilişkin satış giderinin farkı nedir türkçe yaz?\""
      ],
      "metadata": {
        "id": "CLAq10MtyhRE"
      },
      "execution_count": 9,
      "outputs": []
    },
    {
      "cell_type": "code",
      "source": [
        "query_engine = index.as_query_engine()\n",
        "response = query_engine.query(query_str)\n",
        "display(Markdown(f\"<b>{response}</b>\"))"
      ],
      "metadata": {
        "colab": {
          "base_uri": "https://localhost:8080/",
          "height": 81
        },
        "id": "4lTMoIKPynTK",
        "outputId": "69d04f92-d370-4a90-897c-cafbfc20f2f8"
      },
      "execution_count": 10,
      "outputs": [
        {
          "output_type": "display_data",
          "data": {
            "text/plain": [
              "<IPython.core.display.Markdown object>"
            ],
            "text/markdown": "<b>Sicile kayıtlı motorlu kara araçlarına ilişkin satış gideri, aracın muhafazası, kıymet takdiri ve satış giderleri esas alınarak belirlenirken, taşınır mallara ilişkin satış gideri ise kıymet takdiri ve satış giderleri esas alınarak belirlenmektedir.</b>"
          },
          "metadata": {}
        }
      ]
    },
    {
      "cell_type": "markdown",
      "source": [
        "# HyDE Query Transform Kullanarak"
      ],
      "metadata": {
        "id": "vNTqENNOyuQR"
      }
    },
    {
      "cell_type": "code",
      "source": [
        "hyde = HyDEQueryTransform(include_original=True)\n",
        "hyde_query_engine = TransformQueryEngine(query_engine, hyde)\n",
        "response = hyde_query_engine.query(query_str)\n",
        "display(Markdown(f\"<b>{response}</b>\"))"
      ],
      "metadata": {
        "colab": {
          "base_uri": "https://localhost:8080/",
          "height": 81
        },
        "id": "o_ia__bPyxz1",
        "outputId": "7cd23d2a-8987-4d9c-ac61-adebbdc0d38b"
      },
      "execution_count": 11,
      "outputs": [
        {
          "output_type": "display_data",
          "data": {
            "text/plain": [
              "<IPython.core.display.Markdown object>"
            ],
            "text/markdown": "<b>Sicile kayıtlı motorlu kara araçlarına ilişkin satış gideri, aracın muhafazası, kıymet takdiri ve satış giderleri esas alınarak belirlenirken, taşınır mallara ilişkin satış gideri ise kıymet takdiri ve satış giderleri esas alınarak belirlenmektedir.</b>"
          },
          "metadata": {}
        }
      ]
    },
    {
      "cell_type": "code",
      "source": [
        "query_bundle = hyde(query_str)\n",
        "hyde_doc = query_bundle.embedding_strs[0]"
      ],
      "metadata": {
        "id": "f-Cn9M9Myykt"
      },
      "execution_count": 12,
      "outputs": []
    },
    {
      "cell_type": "code",
      "source": [
        "hyde_doc"
      ],
      "metadata": {
        "colab": {
          "base_uri": "https://localhost:8080/",
          "height": 244
        },
        "id": "W_KO8BO9y6Gz",
        "outputId": "408420a0-5248-4fb1-f8c3-ecfc6ea89d8c"
      },
      "execution_count": 13,
      "outputs": [
        {
          "output_type": "execute_result",
          "data": {
            "text/plain": [
              "'Sicile kayıtlı motorlu kara araçlarına ilişkin satış gideri ile taşınır mallara ilişkin satış gideri arasında bazı önemli farklar bulunmaktadır. İlk olarak, Sicile kayıtlı motorlu kara araçlarına ilişkin satış gideri, özellikle otomobil, motosiklet veya kamyon gibi taşıtların satışıyla ilgili olan masrafları ifade eder. Bu masraflar, aracın reklamı, pazarlaması, sigortası, bakımı ve vergileri gibi çeşitli unsurları içerebilir. Ayrıca, aracın satış fiyatının belirlenmesi ve müşteriye sunulması için yapılan harcamalar da bu gider kategorisine dahil edilir.\\n\\nÖte yandan, taşınır mallara ilişkin satış gideri, genel olarak herhangi bir türdeki malın satışıyla ilgili olan masrafları ifade eder. Bu masraflar, malın depolanması, paketlenmesi, nakliyesi ve dağıtımı gibi işlemleri içerebilir. Ayrıca, malın satış fiyatının belirlenmesi, etiketlenmesi ve müşteriye sunulması için yapılan harcamalar da bu gider kategorisine dahil edilir.\\n\\nBu iki gider kategorisi arasındaki en önemli fark, hangi tür ürünlerin satışına ilişkin olduğudur. Sicile kayıtlı motorlu kara araçlarına ilişkin satış gideri sadece araçların satışıyla ilgiliyken, taşınır mallara ilişkin satış gideri herhangi bir tür malın satışıyla ilgilidir. Ayrıca, bu iki kategoriye dahil olan masrafların türü ve miktarı da farklılık gösterebilir. Örneğin, araç satışıyla ilgili masraflar genellikle daha yüksek olabilir çünkü araçlar pahalı ve karmaşık ürünlerdir.\\n\\nSonuç olarak, Sicile kayıtlı motorlu kara araçlarına ilişkin satış gideri ile taşınır mallara ilişkin satış gideri arasında önemli farklar bulunmaktadır. Bu farklar, hangi tür ürünlerin satışına ilişkin olduğu, masrafların türü ve miktarı gibi unsurları içermektedir. Bu nedenle, işletmelerin bu farkları anlamaları ve doğru şekilde hesaplamaları önemlidir.'"
            ],
            "application/vnd.google.colaboratory.intrinsic+json": {
              "type": "string"
            }
          },
          "metadata": {},
          "execution_count": 13
        }
      ]
    },
    {
      "cell_type": "markdown",
      "source": [
        "**Sorgu bağlam olmadan yanlış yorumlanabildiğinde HyDE yanıltıcı olabilir.**"
      ],
      "metadata": {
        "id": "dlMOaNKJzGTp"
      }
    },
    {
      "cell_type": "code",
      "source": [
        "query_str = \"Satış giderleri nedir?\""
      ],
      "metadata": {
        "id": "KQrug5bzy7I6"
      },
      "execution_count": 17,
      "outputs": []
    },
    {
      "cell_type": "code",
      "source": [
        "response = query_engine.query(query_str)\n",
        "display(Markdown(f\"<b>{response}</b>\"))"
      ],
      "metadata": {
        "colab": {
          "base_uri": "https://localhost:8080/",
          "height": 81
        },
        "id": "F8lOwy2BzPHC",
        "outputId": "a91ed6db-f2dd-4e8f-c3a1-ecaf6fd73234"
      },
      "execution_count": 18,
      "outputs": [
        {
          "output_type": "display_data",
          "data": {
            "text/plain": [
              "<IPython.core.display.Markdown object>"
            ],
            "text/markdown": "<b>Satış giderleri, bir satış işlemi gerçekleştirildiğinde ödenmesi gereken ücretlerdir. Bu ücretler, satışın yapıldığı malın niteliğine ve değerine göre belirlenir. Satış giderleri tablosunda yer alan ücretler esas alınarak hesaplanır.</b>"
          },
          "metadata": {}
        }
      ]
    },
    {
      "cell_type": "code",
      "source": [
        "hyde = HyDEQueryTransform(include_original=True)\n",
        "hyde_query_engine = TransformQueryEngine(query_engine, hyde)\n",
        "response = hyde_query_engine.query(query_str)\n",
        "display(Markdown(f\"<b>{response}</b>\"))"
      ],
      "metadata": {
        "colab": {
          "base_uri": "https://localhost:8080/",
          "height": 81
        },
        "id": "VnBlXDQ0zSaI",
        "outputId": "69b478d0-1438-42cc-abd2-ee1205de5773"
      },
      "execution_count": 19,
      "outputs": [
        {
          "output_type": "display_data",
          "data": {
            "text/plain": [
              "<IPython.core.display.Markdown object>"
            ],
            "text/markdown": "<b>Satış giderleri, bir satış işlemi gerçekleştirildiğinde ödenmesi gereken ücretlerdir. Bu ücretler, satışın yapıldığı malın niteliğine ve değerine göre belirlenir. Satış giderleri tablosunda yer alan ücretler esas alınarak hesaplanır.</b>"
          },
          "metadata": {}
        }
      ]
    },
    {
      "cell_type": "code",
      "source": [
        "query_bundle = hyde(query_str)\n",
        "hyde_doc = query_bundle.embedding_strs[0]"
      ],
      "metadata": {
        "id": "NLX3WlPvzYdE"
      },
      "execution_count": 20,
      "outputs": []
    },
    {
      "cell_type": "code",
      "source": [
        "query_bundle = hyde(query_str)\n",
        "hyde_doc = query_bundle.embedding_strs[0]"
      ],
      "metadata": {
        "id": "7gi5-2xBzgDY"
      },
      "execution_count": 21,
      "outputs": []
    },
    {
      "cell_type": "code",
      "source": [
        "hyde_doc"
      ],
      "metadata": {
        "colab": {
          "base_uri": "https://localhost:8080/",
          "height": 261
        },
        "id": "SK4X84Twzkd9",
        "outputId": "7ce891ea-1c78-494e-f168-6ab564179875"
      },
      "execution_count": 22,
      "outputs": [
        {
          "output_type": "execute_result",
          "data": {
            "text/plain": [
              "'Satış giderleri, bir şirketin ürün veya hizmetlerini pazarlamak ve satmak için yaptığı harcamalardır. Bu harcamalar, genellikle reklam ve pazarlama faaliyetleri, satış personeli maaşları, satış ofislerinin kirası, satış ekipmanı ve araçları gibi çeşitli kalemleri içerir. Şirketler, ürünlerini veya hizmetlerini müşterilere tanıtmak, satışları artırmak ve kar elde etmek için satış giderlerine yatırım yaparlar. Reklam ve pazarlama faaliyetleri, televizyon, radyo, gazete, dergi, internet ve sosyal medya gibi çeşitli kanallar aracılığıyla gerçekleştirilebilir. Satış personeli maaşları, satış ekibinin üyelerine ödenen ücretleri içerir ve genellikle satış performansına bağlı olarak değişir. Satış ofislerinin kirası, şirketin satış faaliyetlerini yürütmek için kullandığı fiziksel mekanların maliyetini temsil eder. Satış ekipmanı ve araçları, satış personelinin işlerini daha etkili bir şekilde yapmalarını sağlamak için kullanılan araçları ve teknolojik ekipmanları içerir. Satış giderleri, şirketin satış hedeflerine ulaşmasına yardımcı olmak için stratejik bir şekilde yönetilmeli ve kontrol edilmelidir.'"
            ],
            "application/vnd.google.colaboratory.intrinsic+json": {
              "type": "string"
            }
          },
          "metadata": {},
          "execution_count": 22
        }
      ]
    },
    {
      "cell_type": "markdown",
      "source": [
        "**HyDE açık uçlu sorgulara önyargılı davranabilir**"
      ],
      "metadata": {
        "id": "4SfKgradz9Rl"
      }
    },
    {
      "cell_type": "code",
      "source": [
        "query_str=\"Sicile kayıtlı motorlu kara araçlarına ilişkin satış giderleri ile taşınmaz mallara, taşınır mallara ve diğer mallara ilişkin satış giderleri arasındaki farklılıkları açıklar mısınız?\""
      ],
      "metadata": {
        "id": "GJMcUyEoz_bl"
      },
      "execution_count": null,
      "outputs": []
    },
    {
      "cell_type": "code",
      "source": [
        "response = query_engine.query(query_str)\n",
        "display(Markdown(f\"<b>{response}</b>\"))"
      ],
      "metadata": {
        "colab": {
          "base_uri": "https://localhost:8080/",
          "height": 150
        },
        "id": "LWgZNRiJ0eA1",
        "outputId": "60f93147-8a2e-4349-d35a-03e5afa48e31"
      },
      "execution_count": 23,
      "outputs": [
        {
          "output_type": "display_data",
          "data": {
            "text/plain": [
              "<IPython.core.display.Markdown object>"
            ],
            "text/markdown": "<b>Satış giderleri, bir satış işlemi gerçekleştirildiğinde ödenmesi gereken ücretlerdir. Bu ücretler, satış talep edilen malın niteliğine ve türüne göre belirlenir. Örneğin, taşınmaz mallar için satış giderleri, kıymet takdiri ve satış giderleri esas alınarak belirlenirken, sicile kayıtlı motorlu kara araçları için farklı bir ücret tablosu kullanılır. Diğer mallar için ise satış giderleri tablosunda belirtilen ücretler esas alınır. Satış giderleri, satış talep edilen malın satışı için önceden belirlenen bir tarifeye göre hesaplanır ve satış işlemi gerçekleştirilmeden önce avans olarak ödenmesi gerekmektedir.</b>"
          },
          "metadata": {}
        }
      ]
    },
    {
      "cell_type": "code",
      "source": [
        "response = hyde_query_engine.query(query_str)\n",
        "display(Markdown(f\"<b>{response}</b>\"))"
      ],
      "metadata": {
        "colab": {
          "base_uri": "https://localhost:8080/",
          "height": 81
        },
        "id": "y6ZjMfCn0fIM",
        "outputId": "806bf22c-d5ff-4de3-efec-9b675daddc93"
      },
      "execution_count": 24,
      "outputs": [
        {
          "output_type": "display_data",
          "data": {
            "text/plain": [
              "<IPython.core.display.Markdown object>"
            ],
            "text/markdown": "<b>Satış giderleri, bir satış işlemi gerçekleştirildiğinde ödenmesi gereken ücretlerdir. Bu ücretler, satış talep edilen malın niteliğine ve değerine göre belirlenir. Satış giderleri tablosunda yer alan ücretler esas alınarak hesaplanır.</b>"
          },
          "metadata": {}
        }
      ]
    }
  ]
}