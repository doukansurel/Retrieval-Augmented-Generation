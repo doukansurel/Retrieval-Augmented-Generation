{
  "nbformat": 4,
  "nbformat_minor": 0,
  "metadata": {
    "colab": {
      "provenance": [],
      "authorship_tag": "ABX9TyP97oRpc8GO+lnGGk4Aa0Ao",
      "include_colab_link": true
    },
    "kernelspec": {
      "name": "python3",
      "display_name": "Python 3"
    },
    "language_info": {
      "name": "python"
    }
  },
  "cells": [
    {
      "cell_type": "markdown",
      "metadata": {
        "id": "view-in-github",
        "colab_type": "text"
      },
      "source": [
        "<a href=\"https://colab.research.google.com/github/doukansurel/Retrieval-Augmented-Generation/blob/main/OpenAI_Agent_Query_PlanningwithLlamaIndex.ipynb\" target=\"_parent\"><img src=\"https://colab.research.google.com/assets/colab-badge.svg\" alt=\"Open In Colab\"/></a>"
      ]
    },
    {
      "cell_type": "code",
      "execution_count": null,
      "metadata": {
        "id": "hRQ3J6FfDb4s"
      },
      "outputs": [],
      "source": [
        "!pip install llama-index"
      ]
    },
    {
      "cell_type": "code",
      "source": [
        "!pip install pypdf"
      ],
      "metadata": {
        "colab": {
          "base_uri": "https://localhost:8080/"
        },
        "id": "F_8maZO-FshG",
        "outputId": "547b4012-95c7-450b-be7d-ae180ee84fc1"
      },
      "execution_count": 2,
      "outputs": [
        {
          "output_type": "stream",
          "name": "stdout",
          "text": [
            "Collecting pypdf\n",
            "  Downloading pypdf-3.17.4-py3-none-any.whl (278 kB)\n",
            "\u001b[?25l     \u001b[90m━━━━━━━━━━━━━━━━━━━━━━━━━━━━━━━━━━━━━━━━\u001b[0m \u001b[32m0.0/278.2 kB\u001b[0m \u001b[31m?\u001b[0m eta \u001b[36m-:--:--\u001b[0m\r\u001b[2K     \u001b[91m━━━━━━━━\u001b[0m\u001b[91m╸\u001b[0m\u001b[90m━━━━━━━━━━━━━━━━━━━━━━━━━━━━━━━\u001b[0m \u001b[32m61.4/278.2 kB\u001b[0m \u001b[31m1.6 MB/s\u001b[0m eta \u001b[36m0:00:01\u001b[0m\r\u001b[2K     \u001b[91m━━━━━━━━━━━━━━━━━━━━━━━━━━━━━━━━━━━━━━━\u001b[0m\u001b[91m╸\u001b[0m \u001b[32m276.5/278.2 kB\u001b[0m \u001b[31m4.1 MB/s\u001b[0m eta \u001b[36m0:00:01\u001b[0m\r\u001b[2K     \u001b[90m━━━━━━━━━━━━━━━━━━━━━━━━━━━━━━━━━━━━━━━━\u001b[0m \u001b[32m278.2/278.2 kB\u001b[0m \u001b[31m3.6 MB/s\u001b[0m eta \u001b[36m0:00:00\u001b[0m\n",
            "\u001b[?25hInstalling collected packages: pypdf\n",
            "Successfully installed pypdf-3.17.4\n"
          ]
        }
      ]
    },
    {
      "cell_type": "code",
      "source": [
        "import os\n",
        "from google.colab import drive\n",
        "\n",
        "os.environ[\"OPENAI_API_KEY\"] = \"OPENAI_API_KEY\"\n",
        "\n",
        "drive.mount(\"/content/drive\")"
      ],
      "metadata": {
        "colab": {
          "base_uri": "https://localhost:8080/"
        },
        "id": "EeFrUzC5GCi4",
        "outputId": "a8b17eec-e38f-4d67-ac37-06daa6a340fc"
      },
      "execution_count": 4,
      "outputs": [
        {
          "output_type": "stream",
          "name": "stdout",
          "text": [
            "Mounted at /content/drive\n"
          ]
        }
      ]
    },
    {
      "cell_type": "code",
      "source": [
        "from llama_index import (\n",
        "    SimpleDirectoryReader,\n",
        "    ServiceContext,\n",
        "    GPTVectorStoreIndex,\n",
        ")\n",
        "from llama_index.response.pprint_utils import pprint_response\n",
        "from llama_index.llms import OpenAI\n",
        "\n",
        "llm = OpenAI(temperature=0, model=\"gpt-4\")\n",
        "service_context = ServiceContext.from_defaults(llm=llm)"
      ],
      "metadata": {
        "id": "pmtD6N3EF-s-"
      },
      "execution_count": 6,
      "outputs": []
    },
    {
      "cell_type": "code",
      "source": [
        "!mkdir -p 'data/10q/'\n",
        "!wget 'https://raw.githubusercontent.com/run-llama/llama_index/main/docs/examples/data/10q/uber_10q_march_2022.pdf' -O 'data/10q/uber_10q_march_2022.pdf'\n",
        "!wget 'https://raw.githubusercontent.com/run-llama/llama_index/main/docs/examples/data/10q/uber_10q_june_2022.pdf' -O 'data/10q/uber_10q_june_2022.pdf'\n",
        "!wget 'https://raw.githubusercontent.com/run-llama/llama_index/main/docs/examples/data/10q/uber_10q_sept_2022.pdf' -O 'data/10q/uber_10q_sept_2022.pdf'"
      ],
      "metadata": {
        "id": "5EVlsmIZGSGe"
      },
      "execution_count": null,
      "outputs": []
    },
    {
      "cell_type": "code",
      "source": [
        "march_2022 = SimpleDirectoryReader(\n",
        "    input_files=[\"./data/10q/uber_10q_march_2022.pdf\"]\n",
        ").load_data()\n",
        "june_2022 = SimpleDirectoryReader(\n",
        "    input_files=[\"./data/10q/uber_10q_june_2022.pdf\"]\n",
        ").load_data()\n",
        "sept_2022 = SimpleDirectoryReader(\n",
        "    input_files=[\"./data/10q/uber_10q_sept_2022.pdf\"]\n",
        ").load_data()"
      ],
      "metadata": {
        "id": "cAmqI6atGh6D"
      },
      "execution_count": 8,
      "outputs": []
    },
    {
      "cell_type": "code",
      "source": [
        "march_index = GPTVectorStoreIndex.from_documents(march_2022)\n",
        "june_index = GPTVectorStoreIndex.from_documents(june_2022)\n",
        "sept_index = GPTVectorStoreIndex.from_documents(sept_2022)"
      ],
      "metadata": {
        "id": "lr6RBwrlGj08"
      },
      "execution_count": 9,
      "outputs": []
    },
    {
      "cell_type": "code",
      "source": [
        "march_engine = march_index.as_query_engine(\n",
        "    similarity_top_k=3, service_context=service_context\n",
        ")\n",
        "june_engine = june_index.as_query_engine(\n",
        "    similarity_top_k=3, service_context=service_context\n",
        ")\n",
        "sept_engine = sept_index.as_query_engine(\n",
        "    similarity_top_k=3, service_context=service_context\n",
        ")"
      ],
      "metadata": {
        "id": "sv5BjWqCGl9F"
      },
      "execution_count": 10,
      "outputs": []
    },
    {
      "cell_type": "code",
      "source": [
        "from llama_index.tools import QueryEngineTool\n",
        "\n",
        "\n",
        "query_tool_sept = QueryEngineTool.from_defaults(\n",
        "    query_engine=sept_engine,\n",
        "    name=\"sept_2022\",\n",
        "    description=(\n",
        "        f\"Provides information about Uber quarterly financials ending\"\n",
        "        f\" September 2022\"\n",
        "    ),\n",
        ")\n",
        "query_tool_june = QueryEngineTool.from_defaults(\n",
        "    query_engine=june_engine,\n",
        "    name=\"june_2022\",\n",
        "    description=(\n",
        "        f\"Provides information about Uber quarterly financials ending June\"\n",
        "        f\" 2022\"\n",
        "    ),\n",
        ")\n",
        "query_tool_march = QueryEngineTool.from_defaults(\n",
        "    query_engine=march_engine,\n",
        "    name=\"march_2022\",\n",
        "    description=(\n",
        "        f\"Provides information about Uber quarterly financials ending March\"\n",
        "        f\" 2022\"\n",
        "    ),\n",
        ")"
      ],
      "metadata": {
        "id": "QC524QWYGp49"
      },
      "execution_count": 11,
      "outputs": []
    },
    {
      "cell_type": "code",
      "source": [
        "# define query plan tool\n",
        "from llama_index.tools import QueryPlanTool\n",
        "from llama_index import get_response_synthesizer\n",
        "\n",
        "response_synthesizer = get_response_synthesizer(\n",
        "    service_context=service_context\n",
        ")\n",
        "query_plan_tool = QueryPlanTool.from_defaults(\n",
        "    query_engine_tools=[query_tool_sept, query_tool_june, query_tool_march],\n",
        "    response_synthesizer=response_synthesizer,\n",
        ")"
      ],
      "metadata": {
        "id": "m2IYq88ZG9Nf"
      },
      "execution_count": 12,
      "outputs": []
    },
    {
      "cell_type": "code",
      "source": [
        "query_plan_tool.metadata.to_openai_tool()"
      ],
      "metadata": {
        "colab": {
          "base_uri": "https://localhost:8080/"
        },
        "id": "nj-dAOz9Iu5g",
        "outputId": "24095adb-a82d-46c3-8de0-a6dcf6f7855e"
      },
      "execution_count": 13,
      "outputs": [
        {
          "output_type": "execute_result",
          "data": {
            "text/plain": [
              "{'type': 'function',\n",
              " 'function': {'name': 'query_plan_tool',\n",
              "  'description': '        This is a query plan tool that takes in a list of tools and executes a query plan over these tools to answer a query. The query plan is a DAG of query nodes.\\n\\nGiven a list of tool names and the query plan schema, you can choose to generate a query plan to answer a question.\\n\\nThe tool names and descriptions are as follows:\\n\\n\\n\\n        Tool Name: sept_2022\\nTool Description: Provides information about Uber quarterly financials ending September 2022 \\n\\nTool Name: june_2022\\nTool Description: Provides information about Uber quarterly financials ending June 2022 \\n\\nTool Name: march_2022\\nTool Description: Provides information about Uber quarterly financials ending March 2022 \\n        ',\n",
              "  'parameters': {'title': 'QueryPlan',\n",
              "   'description': \"Query plan.\\n\\nContains a list of QueryNode objects (which is a recursive object).\\nOut of the list of QueryNode objects, one of them must be the root node.\\nThe root node is the one that isn't a dependency of any other node.\",\n",
              "   'type': 'object',\n",
              "   'properties': {'nodes': {'title': 'Nodes',\n",
              "     'description': 'The original question we are asking.',\n",
              "     'type': 'array',\n",
              "     'items': {'$ref': '#/definitions/QueryNode'}}},\n",
              "   'required': ['nodes'],\n",
              "   'definitions': {'QueryNode': {'title': 'QueryNode',\n",
              "     'description': 'Query node.\\n\\nA query node represents a query (query_str) that must be answered.\\nIt can either be answered by a tool (tool_name), or by a list of child nodes\\n(child_nodes).\\nThe tool_name and child_nodes fields are mutually exclusive.',\n",
              "     'type': 'object',\n",
              "     'properties': {'id': {'title': 'Id',\n",
              "       'description': 'ID of the query node.',\n",
              "       'type': 'integer'},\n",
              "      'query_str': {'title': 'Query Str',\n",
              "       'description': 'Question we are asking. This is the query string that will be executed. ',\n",
              "       'type': 'string'},\n",
              "      'tool_name': {'title': 'Tool Name',\n",
              "       'description': 'Name of the tool to execute the `query_str`.',\n",
              "       'type': 'string'},\n",
              "      'dependencies': {'title': 'Dependencies',\n",
              "       'description': 'List of sub-questions that need to be answered in order to answer the question given by `query_str`.Should be blank if there are no sub-questions to be specified, in which case `tool_name` is specified.',\n",
              "       'type': 'array',\n",
              "       'items': {'type': 'integer'}}},\n",
              "     'required': ['id', 'query_str']}}}}}"
            ]
          },
          "metadata": {},
          "execution_count": 13
        }
      ]
    },
    {
      "cell_type": "code",
      "source": [
        "from llama_index.agent import OpenAIAgent\n",
        "from llama_index.llms import OpenAI\n",
        "\n",
        "\n",
        "agent = OpenAIAgent.from_tools(\n",
        "    [query_plan_tool],\n",
        "    max_function_calls=10,\n",
        "    llm=OpenAI(temperature=0, model=\"gpt-4-0613\"),\n",
        "    verbose=True,\n",
        ")"
      ],
      "metadata": {
        "id": "euYvNk7LIu1J"
      },
      "execution_count": 14,
      "outputs": []
    },
    {
      "cell_type": "code",
      "source": [
        "response = agent.query(\"What were the risk factors in sept 2022?\")\n"
      ],
      "metadata": {
        "colab": {
          "base_uri": "https://localhost:8080/"
        },
        "id": "S4SQ6HphI2WE",
        "outputId": "57cbdb5e-ea39-401a-a619-a4246b323438"
      },
      "execution_count": 15,
      "outputs": [
        {
          "output_type": "stream",
          "name": "stdout",
          "text": [
            "Added user message to memory: What were the risk factors in sept 2022?\n",
            "=== Calling Function ===\n",
            "Calling function: query_plan_tool with args: {\n",
            "  \"nodes\": [\n",
            "    {\n",
            "      \"id\": 1,\n",
            "      \"query_str\": \"What were the risk factors in sept 2022?\",\n",
            "      \"tool_name\": \"sept_2022\",\n",
            "      \"dependencies\": []\n",
            "    }\n",
            "  ]\n",
            "}\n",
            "\u001b[1;3;34mExecuting node {\"id\": 1, \"query_str\": \"What were the risk factors in sept 2022?\", \"tool_name\": \"sept_2022\", \"dependencies\": []}\n",
            "\u001b[0m\u001b[1;3;38;5;200mSelected Tool: ToolMetadata(description='Provides information about Uber quarterly financials ending September 2022', name='sept_2022', fn_schema=<class 'llama_index.tools.types.DefaultToolFnSchema'>)\n",
            "\u001b[0m\u001b[1;3;34mExecuted query, got response.\n",
            "Query: What were the risk factors in sept 2022?\n",
            "Response: The risk factors in September 2022 included failure to meet regulatory requirements related to climate change or to meet stated climate change commitments, which could impact costs, operations, brand, and reputation. Outbreaks of contagious diseases like the COVID-19 pandemic could continue to adversely impact the business, financial condition, and results of operations. Catastrophic events such as disease, weather events, war, or terrorist attacks could also have adverse impacts. The release of new software could cause interruptions in the platform's availability or functionality. The use of artificial intelligence could present additional risks if algorithms are flawed or datasets contain biased information. Climate change risks included physical and transitional risks, such as market shifts towards electric vehicles and lower carbon business models, and risks related to extreme weather events or natural disasters. Economic conditions and their impact on discretionary consumer spending could harm the business and operating results. Increases in fuel, food, labor, energy, and other costs due to inflation and other factors could adversely affect operating results.\n",
            "\u001b[0mGot output: The risk factors in September 2022 included failure to meet regulatory requirements related to climate change or to meet stated climate change commitments, which could impact costs, operations, brand, and reputation. Outbreaks of contagious diseases like the COVID-19 pandemic could continue to adversely impact the business, financial condition, and results of operations. Catastrophic events such as disease, weather events, war, or terrorist attacks could also have adverse impacts. The release of new software could cause interruptions in the platform's availability or functionality. The use of artificial intelligence could present additional risks if algorithms are flawed or datasets contain biased information. Climate change risks included physical and transitional risks, such as market shifts towards electric vehicles and lower carbon business models, and risks related to extreme weather events or natural disasters. Economic conditions and their impact on discretionary consumer spending could harm the business and operating results. Increases in fuel, food, labor, energy, and other costs due to inflation and other factors could adversely affect operating results.\n",
            "========================\n",
            "\n"
          ]
        }
      ]
    },
    {
      "cell_type": "code",
      "source": [
        "from llama_index.tools.query_plan import QueryPlan, QueryNode\n",
        "\n",
        "query_plan = QueryPlan(\n",
        "    nodes=[\n",
        "        QueryNode(\n",
        "            id=1,\n",
        "            query_str=\"risk factors\",\n",
        "            tool_name=\"sept_2022\",\n",
        "            dependencies=[],\n",
        "        )\n",
        "    ]\n",
        ")"
      ],
      "metadata": {
        "id": "u2wCMIG6I6L-"
      },
      "execution_count": 16,
      "outputs": []
    },
    {
      "cell_type": "code",
      "source": [
        "QueryPlan.schema()"
      ],
      "metadata": {
        "colab": {
          "base_uri": "https://localhost:8080/"
        },
        "id": "hLTRPsT9I9uZ",
        "outputId": "1617cb8c-e06f-45bb-ad28-9767a9d9cca0"
      },
      "execution_count": 17,
      "outputs": [
        {
          "output_type": "execute_result",
          "data": {
            "text/plain": [
              "{'title': 'QueryPlan',\n",
              " 'description': \"Query plan.\\n\\nContains a list of QueryNode objects (which is a recursive object).\\nOut of the list of QueryNode objects, one of them must be the root node.\\nThe root node is the one that isn't a dependency of any other node.\",\n",
              " 'type': 'object',\n",
              " 'properties': {'nodes': {'title': 'Nodes',\n",
              "   'description': 'The original question we are asking.',\n",
              "   'type': 'array',\n",
              "   'items': {'$ref': '#/definitions/QueryNode'}}},\n",
              " 'required': ['nodes'],\n",
              " 'definitions': {'QueryNode': {'title': 'QueryNode',\n",
              "   'description': 'Query node.\\n\\nA query node represents a query (query_str) that must be answered.\\nIt can either be answered by a tool (tool_name), or by a list of child nodes\\n(child_nodes).\\nThe tool_name and child_nodes fields are mutually exclusive.',\n",
              "   'type': 'object',\n",
              "   'properties': {'id': {'title': 'Id',\n",
              "     'description': 'ID of the query node.',\n",
              "     'type': 'integer'},\n",
              "    'query_str': {'title': 'Query Str',\n",
              "     'description': 'Question we are asking. This is the query string that will be executed. ',\n",
              "     'type': 'string'},\n",
              "    'tool_name': {'title': 'Tool Name',\n",
              "     'description': 'Name of the tool to execute the `query_str`.',\n",
              "     'type': 'string'},\n",
              "    'dependencies': {'title': 'Dependencies',\n",
              "     'description': 'List of sub-questions that need to be answered in order to answer the question given by `query_str`.Should be blank if there are no sub-questions to be specified, in which case `tool_name` is specified.',\n",
              "     'type': 'array',\n",
              "     'items': {'type': 'integer'}}},\n",
              "   'required': ['id', 'query_str']}}}"
            ]
          },
          "metadata": {},
          "execution_count": 17
        }
      ]
    },
    {
      "cell_type": "code",
      "source": [
        "response = agent.query(\n",
        "    \"Analyze Uber revenue growth in March, June, and September\"\n",
        ")"
      ],
      "metadata": {
        "colab": {
          "base_uri": "https://localhost:8080/"
        },
        "id": "jYVDQjFIJKmb",
        "outputId": "d79719f1-6c28-4e79-c5d9-f6b22a71968b"
      },
      "execution_count": 18,
      "outputs": [
        {
          "output_type": "stream",
          "name": "stdout",
          "text": [
            "Added user message to memory: Analyze Uber revenue growth in March, June, and September\n",
            "=== Calling Function ===\n",
            "Calling function: query_plan_tool with args: {\n",
            "  \"nodes\": [\n",
            "    {\n",
            "      \"id\": 1,\n",
            "      \"query_str\": \"What is Uber's revenue for March 2022?\",\n",
            "      \"tool_name\": \"march_2022\",\n",
            "      \"dependencies\": []\n",
            "    },\n",
            "    {\n",
            "      \"id\": 2,\n",
            "      \"query_str\": \"What is Uber's revenue for June 2022?\",\n",
            "      \"tool_name\": \"june_2022\",\n",
            "      \"dependencies\": []\n",
            "    },\n",
            "    {\n",
            "      \"id\": 3,\n",
            "      \"query_str\": \"What is Uber's revenue for September 2022?\",\n",
            "      \"tool_name\": \"sept_2022\",\n",
            "      \"dependencies\": []\n",
            "    },\n",
            "    {\n",
            "      \"id\": 4,\n",
            "      \"query_str\": \"Calculate the revenue growth from March to June\",\n",
            "      \"tool_name\": \"revenue_growth_calculator\",\n",
            "      \"dependencies\": [1, 2]\n",
            "    },\n",
            "    {\n",
            "      \"id\": 5,\n",
            "      \"query_str\": \"Calculate the revenue growth from June to September\",\n",
            "      \"tool_name\": \"revenue_growth_calculator\",\n",
            "      \"dependencies\": [2, 3]\n",
            "    },\n",
            "    {\n",
            "      \"id\": 6,\n",
            "      \"query_str\": \"Summarize the revenue growth over the three quarters\",\n",
            "      \"tool_name\": \"revenue_growth_summarizer\",\n",
            "      \"dependencies\": [4, 5]\n",
            "    }\n",
            "  ]\n",
            "}\n",
            "\u001b[1;3;34mExecuting node {\"id\": 6, \"query_str\": \"Summarize the revenue growth over the three quarters\", \"tool_name\": \"revenue_growth_summarizer\", \"dependencies\": [4, 5]}\n",
            "\u001b[0m\u001b[1;3;38;5;200mExecuting 2 child nodes\n",
            "\u001b[0m\u001b[1;3;34mExecuting node {\"id\": 4, \"query_str\": \"Calculate the revenue growth from March to June\", \"tool_name\": \"revenue_growth_calculator\", \"dependencies\": [1, 2]}\n",
            "\u001b[0m\u001b[1;3;38;5;200mExecuting 2 child nodes\n",
            "\u001b[0m\u001b[1;3;34mExecuting node {\"id\": 1, \"query_str\": \"What is Uber's revenue for March 2022?\", \"tool_name\": \"march_2022\", \"dependencies\": []}\n",
            "\u001b[0m\u001b[1;3;38;5;200mSelected Tool: ToolMetadata(description='Provides information about Uber quarterly financials ending March 2022', name='march_2022', fn_schema=<class 'llama_index.tools.types.DefaultToolFnSchema'>)\n",
            "\u001b[0m\u001b[1;3;34mExecuted query, got response.\n",
            "Query: What is Uber's revenue for March 2022?\n",
            "Response: Uber's revenue for March 2022 was $6.854 billion.\n",
            "\u001b[0m\u001b[1;3;34mExecuting node {\"id\": 2, \"query_str\": \"What is Uber's revenue for June 2022?\", \"tool_name\": \"june_2022\", \"dependencies\": []}\n",
            "\u001b[0m\u001b[1;3;38;5;200mSelected Tool: ToolMetadata(description='Provides information about Uber quarterly financials ending June 2022', name='june_2022', fn_schema=<class 'llama_index.tools.types.DefaultToolFnSchema'>)\n",
            "\u001b[0m\u001b[1;3;34mExecuted query, got response.\n",
            "Query: What is Uber's revenue for June 2022?\n",
            "Response: Uber's revenue for June 2022 was $8.073 billion.\n",
            "\u001b[0m\u001b[1;3;34mExecuted query, got response.\n",
            "Query: Calculate the revenue growth from March to June\n",
            "Response: The revenue growth from March to June 2022 for Uber was $1.219 billion.\n",
            "\u001b[0m\u001b[1;3;34mExecuting node {\"id\": 5, \"query_str\": \"Calculate the revenue growth from June to September\", \"tool_name\": \"revenue_growth_calculator\", \"dependencies\": [2, 3]}\n",
            "\u001b[0m\u001b[1;3;38;5;200mExecuting 2 child nodes\n",
            "\u001b[0m\u001b[1;3;34mExecuting node {\"id\": 2, \"query_str\": \"What is Uber's revenue for June 2022?\", \"tool_name\": \"june_2022\", \"dependencies\": []}\n",
            "\u001b[0m\u001b[1;3;38;5;200mSelected Tool: ToolMetadata(description='Provides information about Uber quarterly financials ending June 2022', name='june_2022', fn_schema=<class 'llama_index.tools.types.DefaultToolFnSchema'>)\n",
            "\u001b[0m\u001b[1;3;34mExecuted query, got response.\n",
            "Query: What is Uber's revenue for June 2022?\n",
            "Response: Uber's revenue for June 2022 is not specifically mentioned in the context. However, for the three months ended June 30, 2022, Uber's revenue was $8.073 billion.\n",
            "\u001b[0m\u001b[1;3;34mExecuting node {\"id\": 3, \"query_str\": \"What is Uber's revenue for September 2022?\", \"tool_name\": \"sept_2022\", \"dependencies\": []}\n",
            "\u001b[0m\u001b[1;3;38;5;200mSelected Tool: ToolMetadata(description='Provides information about Uber quarterly financials ending September 2022', name='sept_2022', fn_schema=<class 'llama_index.tools.types.DefaultToolFnSchema'>)\n",
            "\u001b[0m\u001b[1;3;34mExecuted query, got response.\n",
            "Query: What is Uber's revenue for September 2022?\n",
            "Response: Uber's revenue for September 2022 was $8.343 billion.\n",
            "\u001b[0m\u001b[1;3;34mExecuted query, got response.\n",
            "Query: Calculate the revenue growth from June to September\n",
            "Response: The revenue growth from June to September 2022 for Uber was $270 million.\n",
            "\u001b[0m\u001b[1;3;34mExecuted query, got response.\n",
            "Query: Summarize the revenue growth over the three quarters\n",
            "Response: The revenue growth for Uber over the three quarters in 2022 was $1.489 billion.\n",
            "\u001b[0mGot output: The revenue growth for Uber over the three quarters in 2022 was $1.489 billion.\n",
            "========================\n",
            "\n"
          ]
        }
      ]
    },
    {
      "cell_type": "code",
      "source": [
        "print(str(response))"
      ],
      "metadata": {
        "colab": {
          "base_uri": "https://localhost:8080/"
        },
        "id": "CuAO1WTaJc-o",
        "outputId": "67a0cb4e-56ee-4128-c523-d0d055a19723"
      },
      "execution_count": 19,
      "outputs": [
        {
          "output_type": "stream",
          "name": "stdout",
          "text": [
            "The revenue growth for Uber over the three quarters in 2022 was $1.489 billion.\n"
          ]
        }
      ]
    },
    {
      "cell_type": "markdown",
      "source": [
        "RAG Query Planning, bilgi arama ve metin üretme süreçlerini birleştirerek daha doğru, akıcı ve bilgili yanıtlar üretmeyi hedefler. Kullanım alanları şunları içerebilir:\n",
        "\n",
        "Soru-cevap sistemleri: Daha kapsamlı ve bilgili yanıtlar vermek için.\n",
        "Özet oluşturma: Bilgileri daha akıcı ve doğru bir şekilde özetlemek için.\n",
        "Metin oluşturma: Bilgi açısından zengin ve hedef odaklı metinler oluşturmak için.\n",
        "Diyalog sistemleri: Daha doğal ve bilgili sohbetler gerçekleştirmek için."
      ],
      "metadata": {
        "id": "Fb2TgJtOMDFj"
      }
    },
    {
      "cell_type": "code",
      "source": [],
      "metadata": {
        "id": "j3XeRlWgMDbc"
      },
      "execution_count": null,
      "outputs": []
    }
  ]
}